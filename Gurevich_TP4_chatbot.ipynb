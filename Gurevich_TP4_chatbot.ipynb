{
  "nbformat": 4,
  "nbformat_minor": 0,
  "metadata": {
    "colab": {
      "provenance": [],
      "gpuType": "T4",
      "include_colab_link": true
    },
    "kernelspec": {
      "name": "python3",
      "display_name": "Python 3"
    },
    "language_info": {
      "name": "python"
    },
    "accelerator": "GPU",
    "widgets": {
      "application/vnd.jupyter.widget-state+json": {
        "78afe8e3f9fa4d2192d6b49df22996c1": {
          "model_module": "@jupyter-widgets/controls",
          "model_name": "VBoxModel",
          "model_module_version": "1.5.0",
          "state": {
            "_dom_classes": [],
            "_model_module": "@jupyter-widgets/controls",
            "_model_module_version": "1.5.0",
            "_model_name": "VBoxModel",
            "_view_count": null,
            "_view_module": "@jupyter-widgets/controls",
            "_view_module_version": "1.5.0",
            "_view_name": "VBoxView",
            "box_style": "",
            "children": [],
            "layout": "IPY_MODEL_56b1f7f5ef7540ff93fcb9bf122cb174"
          }
        },
        "2d97a5dc2f0f47398a5a418c14e5d14c": {
          "model_module": "@jupyter-widgets/controls",
          "model_name": "HTMLModel",
          "model_module_version": "1.5.0",
          "state": {
            "_dom_classes": [],
            "_model_module": "@jupyter-widgets/controls",
            "_model_module_version": "1.5.0",
            "_model_name": "HTMLModel",
            "_view_count": null,
            "_view_module": "@jupyter-widgets/controls",
            "_view_module_version": "1.5.0",
            "_view_name": "HTMLView",
            "description": "",
            "description_tooltip": null,
            "layout": "IPY_MODEL_a7dc3cef9d5e40fa928220aeb47c3fd7",
            "placeholder": "​",
            "style": "IPY_MODEL_1d85a4729f3b4dd399208c9db5778692",
            "value": "<center> <img\nsrc=https://huggingface.co/front/assets/huggingface_logo-noborder.svg\nalt='Hugging Face'> <br> Copy a token from <a\nhref=\"https://huggingface.co/settings/tokens\" target=\"_blank\">your Hugging Face\ntokens page</a> and paste it below. <br> Immediately click login after copying\nyour token or it might be stored in plain text in this notebook file. </center>"
          }
        },
        "531b412f21924daf8c3fb4f7cfa4d078": {
          "model_module": "@jupyter-widgets/controls",
          "model_name": "PasswordModel",
          "model_module_version": "1.5.0",
          "state": {
            "_dom_classes": [],
            "_model_module": "@jupyter-widgets/controls",
            "_model_module_version": "1.5.0",
            "_model_name": "PasswordModel",
            "_view_count": null,
            "_view_module": "@jupyter-widgets/controls",
            "_view_module_version": "1.5.0",
            "_view_name": "PasswordView",
            "continuous_update": true,
            "description": "Token:",
            "description_tooltip": null,
            "disabled": false,
            "layout": "IPY_MODEL_82af9d3c60f146f6bf771c4824004960",
            "placeholder": "​",
            "style": "IPY_MODEL_166f20e6a29d4bccbcf2073c31bc8fa7",
            "value": ""
          }
        },
        "8c919b4882164ec1bb06fe69bf766f11": {
          "model_module": "@jupyter-widgets/controls",
          "model_name": "CheckboxModel",
          "model_module_version": "1.5.0",
          "state": {
            "_dom_classes": [],
            "_model_module": "@jupyter-widgets/controls",
            "_model_module_version": "1.5.0",
            "_model_name": "CheckboxModel",
            "_view_count": null,
            "_view_module": "@jupyter-widgets/controls",
            "_view_module_version": "1.5.0",
            "_view_name": "CheckboxView",
            "description": "Add token as git credential?",
            "description_tooltip": null,
            "disabled": false,
            "indent": true,
            "layout": "IPY_MODEL_8f70ce88e12649dab489c00554cda264",
            "style": "IPY_MODEL_3a3ee7f361054010aca437ea63a3cde2",
            "value": true
          }
        },
        "a660edd6d4bf4cf8bd4f75848f6334a7": {
          "model_module": "@jupyter-widgets/controls",
          "model_name": "ButtonModel",
          "model_module_version": "1.5.0",
          "state": {
            "_dom_classes": [],
            "_model_module": "@jupyter-widgets/controls",
            "_model_module_version": "1.5.0",
            "_model_name": "ButtonModel",
            "_view_count": null,
            "_view_module": "@jupyter-widgets/controls",
            "_view_module_version": "1.5.0",
            "_view_name": "ButtonView",
            "button_style": "",
            "description": "Login",
            "disabled": false,
            "icon": "",
            "layout": "IPY_MODEL_9f894358425a40a0a7f962e541999367",
            "style": "IPY_MODEL_852ac798a80b417ea040beefc7acbab5",
            "tooltip": ""
          }
        },
        "7d103b25a14d4078bbfb86a2d3a6d16d": {
          "model_module": "@jupyter-widgets/controls",
          "model_name": "HTMLModel",
          "model_module_version": "1.5.0",
          "state": {
            "_dom_classes": [],
            "_model_module": "@jupyter-widgets/controls",
            "_model_module_version": "1.5.0",
            "_model_name": "HTMLModel",
            "_view_count": null,
            "_view_module": "@jupyter-widgets/controls",
            "_view_module_version": "1.5.0",
            "_view_name": "HTMLView",
            "description": "",
            "description_tooltip": null,
            "layout": "IPY_MODEL_ca1a25b0f8604d73bfa324d190c85320",
            "placeholder": "​",
            "style": "IPY_MODEL_cee013e874f3450283266fd10222654e",
            "value": "\n<b>Pro Tip:</b> If you don't already have one, you can create a dedicated\n'notebooks' token with 'write' access, that you can then easily reuse for all\nnotebooks. </center>"
          }
        },
        "56b1f7f5ef7540ff93fcb9bf122cb174": {
          "model_module": "@jupyter-widgets/base",
          "model_name": "LayoutModel",
          "model_module_version": "1.2.0",
          "state": {
            "_model_module": "@jupyter-widgets/base",
            "_model_module_version": "1.2.0",
            "_model_name": "LayoutModel",
            "_view_count": null,
            "_view_module": "@jupyter-widgets/base",
            "_view_module_version": "1.2.0",
            "_view_name": "LayoutView",
            "align_content": null,
            "align_items": "center",
            "align_self": null,
            "border": null,
            "bottom": null,
            "display": "flex",
            "flex": null,
            "flex_flow": "column",
            "grid_area": null,
            "grid_auto_columns": null,
            "grid_auto_flow": null,
            "grid_auto_rows": null,
            "grid_column": null,
            "grid_gap": null,
            "grid_row": null,
            "grid_template_areas": null,
            "grid_template_columns": null,
            "grid_template_rows": null,
            "height": null,
            "justify_content": null,
            "justify_items": null,
            "left": null,
            "margin": null,
            "max_height": null,
            "max_width": null,
            "min_height": null,
            "min_width": null,
            "object_fit": null,
            "object_position": null,
            "order": null,
            "overflow": null,
            "overflow_x": null,
            "overflow_y": null,
            "padding": null,
            "right": null,
            "top": null,
            "visibility": null,
            "width": "50%"
          }
        },
        "a7dc3cef9d5e40fa928220aeb47c3fd7": {
          "model_module": "@jupyter-widgets/base",
          "model_name": "LayoutModel",
          "model_module_version": "1.2.0",
          "state": {
            "_model_module": "@jupyter-widgets/base",
            "_model_module_version": "1.2.0",
            "_model_name": "LayoutModel",
            "_view_count": null,
            "_view_module": "@jupyter-widgets/base",
            "_view_module_version": "1.2.0",
            "_view_name": "LayoutView",
            "align_content": null,
            "align_items": null,
            "align_self": null,
            "border": null,
            "bottom": null,
            "display": null,
            "flex": null,
            "flex_flow": null,
            "grid_area": null,
            "grid_auto_columns": null,
            "grid_auto_flow": null,
            "grid_auto_rows": null,
            "grid_column": null,
            "grid_gap": null,
            "grid_row": null,
            "grid_template_areas": null,
            "grid_template_columns": null,
            "grid_template_rows": null,
            "height": null,
            "justify_content": null,
            "justify_items": null,
            "left": null,
            "margin": null,
            "max_height": null,
            "max_width": null,
            "min_height": null,
            "min_width": null,
            "object_fit": null,
            "object_position": null,
            "order": null,
            "overflow": null,
            "overflow_x": null,
            "overflow_y": null,
            "padding": null,
            "right": null,
            "top": null,
            "visibility": null,
            "width": null
          }
        },
        "1d85a4729f3b4dd399208c9db5778692": {
          "model_module": "@jupyter-widgets/controls",
          "model_name": "DescriptionStyleModel",
          "model_module_version": "1.5.0",
          "state": {
            "_model_module": "@jupyter-widgets/controls",
            "_model_module_version": "1.5.0",
            "_model_name": "DescriptionStyleModel",
            "_view_count": null,
            "_view_module": "@jupyter-widgets/base",
            "_view_module_version": "1.2.0",
            "_view_name": "StyleView",
            "description_width": ""
          }
        },
        "82af9d3c60f146f6bf771c4824004960": {
          "model_module": "@jupyter-widgets/base",
          "model_name": "LayoutModel",
          "model_module_version": "1.2.0",
          "state": {
            "_model_module": "@jupyter-widgets/base",
            "_model_module_version": "1.2.0",
            "_model_name": "LayoutModel",
            "_view_count": null,
            "_view_module": "@jupyter-widgets/base",
            "_view_module_version": "1.2.0",
            "_view_name": "LayoutView",
            "align_content": null,
            "align_items": null,
            "align_self": null,
            "border": null,
            "bottom": null,
            "display": null,
            "flex": null,
            "flex_flow": null,
            "grid_area": null,
            "grid_auto_columns": null,
            "grid_auto_flow": null,
            "grid_auto_rows": null,
            "grid_column": null,
            "grid_gap": null,
            "grid_row": null,
            "grid_template_areas": null,
            "grid_template_columns": null,
            "grid_template_rows": null,
            "height": null,
            "justify_content": null,
            "justify_items": null,
            "left": null,
            "margin": null,
            "max_height": null,
            "max_width": null,
            "min_height": null,
            "min_width": null,
            "object_fit": null,
            "object_position": null,
            "order": null,
            "overflow": null,
            "overflow_x": null,
            "overflow_y": null,
            "padding": null,
            "right": null,
            "top": null,
            "visibility": null,
            "width": null
          }
        },
        "166f20e6a29d4bccbcf2073c31bc8fa7": {
          "model_module": "@jupyter-widgets/controls",
          "model_name": "DescriptionStyleModel",
          "model_module_version": "1.5.0",
          "state": {
            "_model_module": "@jupyter-widgets/controls",
            "_model_module_version": "1.5.0",
            "_model_name": "DescriptionStyleModel",
            "_view_count": null,
            "_view_module": "@jupyter-widgets/base",
            "_view_module_version": "1.2.0",
            "_view_name": "StyleView",
            "description_width": ""
          }
        },
        "8f70ce88e12649dab489c00554cda264": {
          "model_module": "@jupyter-widgets/base",
          "model_name": "LayoutModel",
          "model_module_version": "1.2.0",
          "state": {
            "_model_module": "@jupyter-widgets/base",
            "_model_module_version": "1.2.0",
            "_model_name": "LayoutModel",
            "_view_count": null,
            "_view_module": "@jupyter-widgets/base",
            "_view_module_version": "1.2.0",
            "_view_name": "LayoutView",
            "align_content": null,
            "align_items": null,
            "align_self": null,
            "border": null,
            "bottom": null,
            "display": null,
            "flex": null,
            "flex_flow": null,
            "grid_area": null,
            "grid_auto_columns": null,
            "grid_auto_flow": null,
            "grid_auto_rows": null,
            "grid_column": null,
            "grid_gap": null,
            "grid_row": null,
            "grid_template_areas": null,
            "grid_template_columns": null,
            "grid_template_rows": null,
            "height": null,
            "justify_content": null,
            "justify_items": null,
            "left": null,
            "margin": null,
            "max_height": null,
            "max_width": null,
            "min_height": null,
            "min_width": null,
            "object_fit": null,
            "object_position": null,
            "order": null,
            "overflow": null,
            "overflow_x": null,
            "overflow_y": null,
            "padding": null,
            "right": null,
            "top": null,
            "visibility": null,
            "width": null
          }
        },
        "3a3ee7f361054010aca437ea63a3cde2": {
          "model_module": "@jupyter-widgets/controls",
          "model_name": "DescriptionStyleModel",
          "model_module_version": "1.5.0",
          "state": {
            "_model_module": "@jupyter-widgets/controls",
            "_model_module_version": "1.5.0",
            "_model_name": "DescriptionStyleModel",
            "_view_count": null,
            "_view_module": "@jupyter-widgets/base",
            "_view_module_version": "1.2.0",
            "_view_name": "StyleView",
            "description_width": ""
          }
        },
        "9f894358425a40a0a7f962e541999367": {
          "model_module": "@jupyter-widgets/base",
          "model_name": "LayoutModel",
          "model_module_version": "1.2.0",
          "state": {
            "_model_module": "@jupyter-widgets/base",
            "_model_module_version": "1.2.0",
            "_model_name": "LayoutModel",
            "_view_count": null,
            "_view_module": "@jupyter-widgets/base",
            "_view_module_version": "1.2.0",
            "_view_name": "LayoutView",
            "align_content": null,
            "align_items": null,
            "align_self": null,
            "border": null,
            "bottom": null,
            "display": null,
            "flex": null,
            "flex_flow": null,
            "grid_area": null,
            "grid_auto_columns": null,
            "grid_auto_flow": null,
            "grid_auto_rows": null,
            "grid_column": null,
            "grid_gap": null,
            "grid_row": null,
            "grid_template_areas": null,
            "grid_template_columns": null,
            "grid_template_rows": null,
            "height": null,
            "justify_content": null,
            "justify_items": null,
            "left": null,
            "margin": null,
            "max_height": null,
            "max_width": null,
            "min_height": null,
            "min_width": null,
            "object_fit": null,
            "object_position": null,
            "order": null,
            "overflow": null,
            "overflow_x": null,
            "overflow_y": null,
            "padding": null,
            "right": null,
            "top": null,
            "visibility": null,
            "width": null
          }
        },
        "852ac798a80b417ea040beefc7acbab5": {
          "model_module": "@jupyter-widgets/controls",
          "model_name": "ButtonStyleModel",
          "model_module_version": "1.5.0",
          "state": {
            "_model_module": "@jupyter-widgets/controls",
            "_model_module_version": "1.5.0",
            "_model_name": "ButtonStyleModel",
            "_view_count": null,
            "_view_module": "@jupyter-widgets/base",
            "_view_module_version": "1.2.0",
            "_view_name": "StyleView",
            "button_color": null,
            "font_weight": ""
          }
        },
        "ca1a25b0f8604d73bfa324d190c85320": {
          "model_module": "@jupyter-widgets/base",
          "model_name": "LayoutModel",
          "model_module_version": "1.2.0",
          "state": {
            "_model_module": "@jupyter-widgets/base",
            "_model_module_version": "1.2.0",
            "_model_name": "LayoutModel",
            "_view_count": null,
            "_view_module": "@jupyter-widgets/base",
            "_view_module_version": "1.2.0",
            "_view_name": "LayoutView",
            "align_content": null,
            "align_items": null,
            "align_self": null,
            "border": null,
            "bottom": null,
            "display": null,
            "flex": null,
            "flex_flow": null,
            "grid_area": null,
            "grid_auto_columns": null,
            "grid_auto_flow": null,
            "grid_auto_rows": null,
            "grid_column": null,
            "grid_gap": null,
            "grid_row": null,
            "grid_template_areas": null,
            "grid_template_columns": null,
            "grid_template_rows": null,
            "height": null,
            "justify_content": null,
            "justify_items": null,
            "left": null,
            "margin": null,
            "max_height": null,
            "max_width": null,
            "min_height": null,
            "min_width": null,
            "object_fit": null,
            "object_position": null,
            "order": null,
            "overflow": null,
            "overflow_x": null,
            "overflow_y": null,
            "padding": null,
            "right": null,
            "top": null,
            "visibility": null,
            "width": null
          }
        },
        "cee013e874f3450283266fd10222654e": {
          "model_module": "@jupyter-widgets/controls",
          "model_name": "DescriptionStyleModel",
          "model_module_version": "1.5.0",
          "state": {
            "_model_module": "@jupyter-widgets/controls",
            "_model_module_version": "1.5.0",
            "_model_name": "DescriptionStyleModel",
            "_view_count": null,
            "_view_module": "@jupyter-widgets/base",
            "_view_module_version": "1.2.0",
            "_view_name": "StyleView",
            "description_width": ""
          }
        },
        "c35f1bb3e582415d9dd2283687cd38c2": {
          "model_module": "@jupyter-widgets/controls",
          "model_name": "LabelModel",
          "model_module_version": "1.5.0",
          "state": {
            "_dom_classes": [],
            "_model_module": "@jupyter-widgets/controls",
            "_model_module_version": "1.5.0",
            "_model_name": "LabelModel",
            "_view_count": null,
            "_view_module": "@jupyter-widgets/controls",
            "_view_module_version": "1.5.0",
            "_view_name": "LabelView",
            "description": "",
            "description_tooltip": null,
            "layout": "IPY_MODEL_fe15f706eb464af4adc576c4f1d83204",
            "placeholder": "​",
            "style": "IPY_MODEL_df4959c9c588496691ab9213239e5342",
            "value": "Connecting..."
          }
        },
        "fe15f706eb464af4adc576c4f1d83204": {
          "model_module": "@jupyter-widgets/base",
          "model_name": "LayoutModel",
          "model_module_version": "1.2.0",
          "state": {
            "_model_module": "@jupyter-widgets/base",
            "_model_module_version": "1.2.0",
            "_model_name": "LayoutModel",
            "_view_count": null,
            "_view_module": "@jupyter-widgets/base",
            "_view_module_version": "1.2.0",
            "_view_name": "LayoutView",
            "align_content": null,
            "align_items": null,
            "align_self": null,
            "border": null,
            "bottom": null,
            "display": null,
            "flex": null,
            "flex_flow": null,
            "grid_area": null,
            "grid_auto_columns": null,
            "grid_auto_flow": null,
            "grid_auto_rows": null,
            "grid_column": null,
            "grid_gap": null,
            "grid_row": null,
            "grid_template_areas": null,
            "grid_template_columns": null,
            "grid_template_rows": null,
            "height": null,
            "justify_content": null,
            "justify_items": null,
            "left": null,
            "margin": null,
            "max_height": null,
            "max_width": null,
            "min_height": null,
            "min_width": null,
            "object_fit": null,
            "object_position": null,
            "order": null,
            "overflow": null,
            "overflow_x": null,
            "overflow_y": null,
            "padding": null,
            "right": null,
            "top": null,
            "visibility": null,
            "width": null
          }
        },
        "df4959c9c588496691ab9213239e5342": {
          "model_module": "@jupyter-widgets/controls",
          "model_name": "DescriptionStyleModel",
          "model_module_version": "1.5.0",
          "state": {
            "_model_module": "@jupyter-widgets/controls",
            "_model_module_version": "1.5.0",
            "_model_name": "DescriptionStyleModel",
            "_view_count": null,
            "_view_module": "@jupyter-widgets/base",
            "_view_module_version": "1.2.0",
            "_view_name": "StyleView",
            "description_width": ""
          }
        }
      }
    }
  },
  "cells": [
    {
      "cell_type": "markdown",
      "metadata": {
        "id": "view-in-github",
        "colab_type": "text"
      },
      "source": [
        "<a href=\"https://colab.research.google.com/github/meligurevich/IAPH/blob/main/Gurevich_TP4_chatbot.ipynb\" target=\"_parent\"><img src=\"https://colab.research.google.com/assets/colab-badge.svg\" alt=\"Open In Colab\"/></a>"
      ]
    },
    {
      "cell_type": "markdown",
      "source": [
        "# TP4 Chatbot - Procesamiento del Habla\n",
        "\n",
        "**Melisa Sabrina Gurevich - DNI: 35.365.884**"
      ],
      "metadata": {
        "id": "BDydrx9x1PF8"
      }
    },
    {
      "cell_type": "code",
      "execution_count": null,
      "metadata": {
        "id": "hghx5BwKdm-A",
        "collapsed": true,
        "colab": {
          "base_uri": "https://localhost:8080/"
        },
        "outputId": "22dd554c-91cd-4158-8c1a-102a2d08e3cd"
      },
      "outputs": [
        {
          "output_type": "stream",
          "name": "stdout",
          "text": [
            "\u001b[2K     \u001b[90m━━━━━━━━━━━━━━━━━━━━━━━━━━━━━━━━━━━━━━━━\u001b[0m \u001b[32m12.9/12.9 MB\u001b[0m \u001b[31m82.4 MB/s\u001b[0m eta \u001b[36m0:00:00\u001b[0m\n",
            "\u001b[?25h\u001b[38;5;2m✔ Download and installation successful\u001b[0m\n",
            "You can now load the package via spacy.load('es_core_news_sm')\n",
            "\u001b[38;5;3m⚠ Restart to reload dependencies\u001b[0m\n",
            "If you are in a Jupyter or Colab notebook, you may need to restart Python in\n",
            "order to load all the package's dependencies. You can do this by selecting the\n",
            "'Restart kernel' or 'Restart runtime' option.\n"
          ]
        }
      ],
      "source": [
        "!pip install spacy --quiet\n",
        "!python -m spacy download es_core_news_sm --quiet\n"
      ]
    },
    {
      "cell_type": "code",
      "source": [
        "import spacy\n",
        "nlp = spacy.load(\"es_core_news_sm\")\n",
        "import es_core_news_sm\n",
        "nlp = es_core_news_sm.load()\n",
        "doc = nlp(\"Esto es una frase.\")\n",
        "print([(w.text, w.pos_) for w in doc])"
      ],
      "metadata": {
        "id": "D9SRh-eDdpWp",
        "colab": {
          "base_uri": "https://localhost:8080/"
        },
        "outputId": "8e3f6b99-9629-4c0e-c49c-9678d33a4cbe"
      },
      "execution_count": null,
      "outputs": [
        {
          "output_type": "stream",
          "name": "stdout",
          "text": [
            "[('Esto', 'PRON'), ('es', 'AUX'), ('una', 'DET'), ('frase', 'NOUN'), ('.', 'PUNCT')]\n"
          ]
        }
      ]
    },
    {
      "cell_type": "markdown",
      "source": [
        "# Chatbots basados en recuperación\n",
        "\n",
        "En inglés information retrieval chatbots"
      ],
      "metadata": {
        "id": "UnrG-1ylkncZ"
      }
    },
    {
      "cell_type": "markdown",
      "source": [
        "# Motor de búsqueda"
      ],
      "metadata": {
        "id": "s3bs1FmWkfrz"
      }
    },
    {
      "cell_type": "markdown",
      "source": [
        "* Búsqueda por palabras clave: Extrae palabras clave de la pregunta del usuario y busca coincidencias en las preguntas almacenadas.\n",
        "\n",
        "* Similitud del coseno: Si has representado las preguntas como vectores (por ejemplo, usando TF-IDF o word embeddings), puedes usar la similitud del coseno para medir la distancia entre las preguntas.\n",
        "\n",
        "* Word embeddings: Utiliza modelos de word embeddings como Word2Vec o BERT para obtener representaciones semánticas de las preguntas y las consultas del usuario."
      ],
      "metadata": {
        "id": "enbz9kXGkWlx"
      }
    },
    {
      "cell_type": "markdown",
      "source": [
        "### Búsqueda por palabras claves"
      ],
      "metadata": {
        "id": "UQoVRp4gjxUo"
      }
    },
    {
      "cell_type": "code",
      "source": [
        "tu_diccionario = {\n",
        "   \"hola\": \"¡Hola! ¿En qué puedo ayudarte?\",\n",
        "   \"adiós\": \"Hasta luego. ¡Que tengas un buen día!\",\n",
        "   \"información\": \"¿Qué tipo de información estás buscando?\",\n",
        "   # Agrega más entradas de diccionario según tus necesidades\n",
        "}\n"
      ],
      "metadata": {
        "id": "3BljEMEOhpTO"
      },
      "execution_count": null,
      "outputs": []
    },
    {
      "cell_type": "code",
      "source": [
        "def responder_pregunta(pregunta):\n",
        "    pregunta_procesada = nlp(pregunta.lower())  # Procesa la pregunta y convierte a minúsculas\n",
        "    respuesta = \"Lo siento, no entiendo tu pregunta.\"\n",
        "\n",
        "    # Busca una coincidencia en el diccionario\n",
        "    for palabra in pregunta_procesada:\n",
        "        # regresa la primer coincidencia que encuentra\n",
        "        if palabra.text in tu_diccionario:\n",
        "            respuesta = tu_diccionario[palabra.text]\n",
        "            break\n",
        "\n",
        "    return respuesta\n"
      ],
      "metadata": {
        "id": "Z4q_k1_3hvyz"
      },
      "execution_count": null,
      "outputs": []
    },
    {
      "cell_type": "code",
      "source": [
        "while True:\n",
        "    entrada_usuario = input(\"Tú: \")\n",
        "    if entrada_usuario.lower() == \"salir\":\n",
        "        print(\"Chatbot: Hasta luego.\")\n",
        "        break\n",
        "    respuesta = responder_pregunta(entrada_usuario)\n",
        "    print(\"Chatbot:\", respuesta)\n"
      ],
      "metadata": {
        "id": "9gMPKi-ghwcA",
        "collapsed": true,
        "colab": {
          "base_uri": "https://localhost:8080/"
        },
        "outputId": "8ab64fa2-c633-4786-dc7a-7ad445af3862"
      },
      "execution_count": null,
      "outputs": [
        {
          "output_type": "stream",
          "name": "stdout",
          "text": [
            "Tú: salir\n",
            "Chatbot: Hasta luego.\n"
          ]
        }
      ]
    },
    {
      "cell_type": "markdown",
      "source": [],
      "metadata": {
        "id": "6S88twrY5sOS"
      }
    },
    {
      "cell_type": "markdown",
      "source": [
        "## Búsqueda por similitud"
      ],
      "metadata": {
        "id": "nI2FsyUOj3je"
      }
    },
    {
      "cell_type": "markdown",
      "source": [
        "Para los chatbots basados ​​en recuperación, es común utilizar bolsas de palabras (bag of words) o tf-idf para calcular la similitud de intenciones."
      ],
      "metadata": {
        "id": "AoZIaX0Kj7xs"
      }
    },
    {
      "cell_type": "code",
      "source": [
        "from sklearn.feature_extraction.text import TfidfVectorizer\n",
        "from sklearn.metrics.pairwise import cosine_similarity\n",
        "\n",
        "# Datos de ejemplo\n",
        "preguntas = [\"¿Qué es el aprendizaje automático?\",\n",
        "             \"¿Cómo funciona la regresión lineal?\"]\n",
        "respuestas = [\"El aprendizaje automático es una rama de la inteligencia artificial...\",\n",
        "              \"La regresión lineal es un método de modelado...\"]\n",
        "\n",
        "# Vectorización con TF-IDF\n",
        "vectorizer = TfidfVectorizer()\n",
        "tfidf_matrix = vectorizer.fit_transform(preguntas)\n",
        "\n",
        "# Función para encontrar la mejor coincidencia\n",
        "def responder_pregunta(consulta_usuario):\n",
        "    consulta_vec = vectorizer.transform([consulta_usuario])\n",
        "    similitudes = cosine_similarity(consulta_vec, tfidf_matrix).flatten()\n",
        "    print(similitudes)\n",
        "    indice_mejor_coincidencia = similitudes.argmax()\n",
        "    print(indice_mejor_coincidencia)\n",
        "    return respuestas[indice_mejor_coincidencia]\n"
      ],
      "metadata": {
        "id": "CReIz0ISj75s"
      },
      "execution_count": null,
      "outputs": []
    },
    {
      "cell_type": "code",
      "source": [
        "\n",
        "# Ejemplo de consulta\n",
        "consulta = \"¿Qué es la regresión lineal?\"\n",
        "print(responder_pregunta(consulta))\n"
      ],
      "metadata": {
        "id": "foqaZ1FN583i",
        "colab": {
          "base_uri": "https://localhost:8080/"
        },
        "outputId": "bf01e061-0189-4fe4-9012-4de97382143e"
      },
      "execution_count": null,
      "outputs": [
        {
          "output_type": "stream",
          "name": "stdout",
          "text": [
            "[0.4 0.6]\n",
            "1\n",
            "La regresión lineal es un método de modelado...\n"
          ]
        }
      ]
    },
    {
      "cell_type": "markdown",
      "source": [
        "## Búsqueda por similitud en embeddings"
      ],
      "metadata": {
        "id": "20KCxfCymOHP"
      }
    },
    {
      "cell_type": "markdown",
      "source": [
        "Puedes vectorizar el texto usando embeddings, como vimos la clase pasada.\n"
      ],
      "metadata": {
        "id": "7g6jgLSLnilX"
      }
    },
    {
      "cell_type": "markdown",
      "source": [
        "## Actividades\n",
        "\n",
        "### 1) Elaborar un dataset de preguntas y respuestas para crear un Chatbot para un aplicación particular. ( 3 puntos )\n",
        "\n",
        "1.1 Debe definir la aplicación (atención al cliente bancario, atención a estudiantes universitarios, etc).\n",
        "1.2 El listado de preguntas y respuestas debe tener como mínimo 20 elementos pregunta - respuesta.\n",
        "\n",
        "###  2) Crear el chatbot utilizando TFIDF y similitud del coseno. (1 punto)\n",
        "\n",
        "### 3) Crear otro chatbot utilizando embeddings. Indique cuál embedding (1 punto) pre-entrenado eligió.\n",
        "\n",
        "### 4) Muestra ambos chatbots funcionando (1 punto)\n",
        "\n",
        "Adjuntar la lista de preguntas utilizadas para probar el funcionamiento.\n",
        "\n",
        "### 5) Añade tus conclusiones de todo lo realizado (2 punto)\n",
        "\n",
        "### 6) BONUS: usa lo realizado en 1 y 3 para crear un chatbot RAG. (2 puntos)\n",
        "\n",
        "* Utiliza un modelo LLM pre-entrenado.\n",
        "\n",
        "* Este punto no es obligatorio de realizar para quienes quieran regularizar / recuperar y luego rendirán en mesa.\n",
        "* Para quienes tienen condiciones para promocionar (han realizado y entregado los TPs a tiempo) la resolución de este ejercicio será tenida en cuenta para sumar a la promoción.\n",
        "\n",
        "### 7) No olvides:\n",
        "\n",
        "* Explicar tus decisiones y configuraciones. Añadir tus conclusiones.\n",
        "* Anunciar en el foro cuál será tu aplicación y postear tu entrega y tus avances.\n",
        "* Debes subir tu notebook a un repo GitHub público de tu propiedad compartido + enlace colab.\n",
        "* Documentar todo el proceso.\n",
        "\n",
        "\n",
        "\n"
      ],
      "metadata": {
        "id": "1sGxF1VglJVd"
      }
    },
    {
      "cell_type": "markdown",
      "source": [
        "## 1. Elección de aplicación: Chatbot Mamás Primerizas 👶❤️🍼"
      ],
      "metadata": {
        "id": "o_6AVESuyxsI"
      }
    },
    {
      "cell_type": "code",
      "source": [
        "!pip install spacy --quiet\n",
        "!python -m spacy download es_core_news_sm --quiet"
      ],
      "metadata": {
        "collapsed": true,
        "id": "8wy87dxN434A",
        "colab": {
          "base_uri": "https://localhost:8080/"
        },
        "outputId": "9dc7230c-1b42-4749-e588-a11b5f0ee25c"
      },
      "execution_count": 17,
      "outputs": [
        {
          "output_type": "stream",
          "name": "stdout",
          "text": [
            "\u001b[?25l     \u001b[90m━━━━━━━━━━━━━━━━━━━━━━━━━━━━━━━━━━━━━━━━\u001b[0m \u001b[32m0.0/12.9 MB\u001b[0m \u001b[31m?\u001b[0m eta \u001b[36m-:--:--\u001b[0m\r\u001b[2K     \u001b[91m━━━━\u001b[0m\u001b[90m╺\u001b[0m\u001b[90m━━━━━━━━━━━━━━━━━━━━━━━━━━━━━━━━━━━\u001b[0m \u001b[32m1.4/12.9 MB\u001b[0m \u001b[31m41.1 MB/s\u001b[0m eta \u001b[36m0:00:01\u001b[0m\r\u001b[2K     \u001b[91m━━━━━━━━━━━━━━━━━━━━━━━━\u001b[0m\u001b[90m╺\u001b[0m\u001b[90m━━━━━━━━━━━━━━━\u001b[0m \u001b[32m7.9/12.9 MB\u001b[0m \u001b[31m114.4 MB/s\u001b[0m eta \u001b[36m0:00:01\u001b[0m\r\u001b[2K     \u001b[91m━━━━━━━━━━━━━━━━━━━━━━━━━━━━━━━━━━━━━━\u001b[0m\u001b[91m╸\u001b[0m \u001b[32m12.9/12.9 MB\u001b[0m \u001b[31m197.7 MB/s\u001b[0m eta \u001b[36m0:00:01\u001b[0m\r\u001b[2K     \u001b[91m━━━━━━━━━━━━━━━━━━━━━━━━━━━━━━━━━━━━━━\u001b[0m\u001b[91m╸\u001b[0m \u001b[32m12.9/12.9 MB\u001b[0m \u001b[31m197.7 MB/s\u001b[0m eta \u001b[36m0:00:01\u001b[0m\r\u001b[2K     \u001b[90m━━━━━━━━━━━━━━━━━━━━━━━━━━━━━━━━━━━━━━━\u001b[0m \u001b[32m12.9/12.9 MB\u001b[0m \u001b[31m101.1 MB/s\u001b[0m eta \u001b[36m0:00:00\u001b[0m\n",
            "\u001b[?25h\u001b[38;5;2m✔ Download and installation successful\u001b[0m\n",
            "You can now load the package via spacy.load('es_core_news_sm')\n",
            "\u001b[38;5;3m⚠ Restart to reload dependencies\u001b[0m\n",
            "If you are in a Jupyter or Colab notebook, you may need to restart Python in\n",
            "order to load all the package's dependencies. You can do this by selecting the\n",
            "'Restart kernel' or 'Restart runtime' option.\n"
          ]
        }
      ]
    },
    {
      "cell_type": "code",
      "source": [
        "import pandas as pd\n",
        "import nltk\n",
        "import re\n",
        "import spacy\n",
        "from sklearn.feature_extraction.text import TfidfVectorizer\n",
        "from sklearn.metrics.pairwise import cosine_similarity"
      ],
      "metadata": {
        "id": "bkw8I6I64Gxd"
      },
      "execution_count": 18,
      "outputs": []
    },
    {
      "cell_type": "code",
      "source": [
        "import pandas as pd\n",
        "\n",
        "from google.colab import drive\n",
        "drive.mount('/content/drive')\n",
        "\n",
        "df = pd.read_csv('/content/drive/MyDrive/PDHGUREVICH/chatbotmamasprimerizas.csv', sep=';')\n",
        "df.head(20)\n"
      ],
      "metadata": {
        "id": "gcJawUbYy_ZV",
        "colab": {
          "base_uri": "https://localhost:8080/",
          "height": 693
        },
        "outputId": "292e4fe4-8dcb-4df5-9eab-1283503b2849"
      },
      "execution_count": 19,
      "outputs": [
        {
          "output_type": "stream",
          "name": "stdout",
          "text": [
            "Mounted at /content/drive\n"
          ]
        },
        {
          "output_type": "execute_result",
          "data": {
            "text/plain": [
              "                                             Pregunta  \\\n",
              "0   ¿Cada cuánto se debe amamantar a un recién nac...   \n",
              "1    ¿Cómo sé si mi bebé está comiendo lo suficiente?   \n",
              "2         ¿Es normal que un bebé duerma muchas horas?   \n",
              "3     ¿Qué hacer si mi bebé llora mucho por la noche?   \n",
              "4   ¿Cuándo debo llevar a mi bebé al pediatra por ...   \n",
              "5                   ¿Cómo cuidar el cordón umbilical?   \n",
              "6                        ¿Por qué mi bebé tiene hipo?   \n",
              "7                  ¿Cuándo empieza un bebé a sonreír?   \n",
              "8                      ¿Mi bebé puede salir a pasear?   \n",
              "9                     ¿Es normal que regurgite leche?   \n",
              "10                ¿Qué hacer si mi bebé tiene fiebre?   \n",
              "11       ¿Cuándo puedo empezar a darle comida sólida?   \n",
              "12                          ¿Cómo calmar los cólicos?   \n",
              "13     ¿Cuántas horas debe dormir un bebé de 3 meses?   \n",
              "14          ¿Por qué mi bebé no quiere tomar la teta?   \n",
              "15               ¿Cuándo comienza a ver bien un bebé?   \n",
              "16        ¿Cuándo se recomienda usar protector solar?   \n",
              "17     ¿Qué señales indican que un bebé está enfermo?   \n",
              "18          ¿Es seguro dormir con el bebé en la cama?   \n",
              "19   ¿Cuántas veces debe hacer caca un recién nacido?   \n",
              "\n",
              "                                            Respuesta  \n",
              "0        Se recomienda cada 2 o 3 horas, o a demanda.  \n",
              "1   Si moja al menos 6 pañales al día y gana peso,...  \n",
              "2   Sí, los recién nacidos pueden dormir entre 16 ...  \n",
              "3   Puede tener gases, hambre o incomodidad. El co...  \n",
              "4              Dentro de los primeros 7 días de vida.  \n",
              "5   Mantenerlo limpio y seco, sin cubrirlo demasiado.  \n",
              "6   El hipo es común en los recién nacidos y suele...  \n",
              "7               Generalmente entre las 4 y 6 semanas.  \n",
              "8   Sí, si el clima lo permite y se toman precauci...  \n",
              "9   Sí, es común y normal si no hay signos de male...  \n",
              "10  Consultar al pediatra si la temperatura supera...  \n",
              "11  A partir de los 6 meses, si muestra signos de ...  \n",
              "12  Masajes suaves, mantenerlo en posición vertica...  \n",
              "13   Entre 14 y 16 horas diarias, incluyendo siestas.  \n",
              "14  Puede estar incómodo, distraído o tener un pro...  \n",
              "15  Desde el nacimiento distingue luces, y mejora ...  \n",
              "16  Después de los 6 meses, en zonas pequeñas y co...  \n",
              "17  Fiebre, rechazo del alimento, decaimiento o ll...  \n",
              "18  No se recomienda por riesgo de asfixia. Mejor ...  \n",
              "19  Puede ser varias veces al día o una cada pocos...  "
            ],
            "text/html": [
              "\n",
              "  <div id=\"df-6063d435-d2b9-4aea-8147-d752b34034fc\" class=\"colab-df-container\">\n",
              "    <div>\n",
              "<style scoped>\n",
              "    .dataframe tbody tr th:only-of-type {\n",
              "        vertical-align: middle;\n",
              "    }\n",
              "\n",
              "    .dataframe tbody tr th {\n",
              "        vertical-align: top;\n",
              "    }\n",
              "\n",
              "    .dataframe thead th {\n",
              "        text-align: right;\n",
              "    }\n",
              "</style>\n",
              "<table border=\"1\" class=\"dataframe\">\n",
              "  <thead>\n",
              "    <tr style=\"text-align: right;\">\n",
              "      <th></th>\n",
              "      <th>Pregunta</th>\n",
              "      <th>Respuesta</th>\n",
              "    </tr>\n",
              "  </thead>\n",
              "  <tbody>\n",
              "    <tr>\n",
              "      <th>0</th>\n",
              "      <td>¿Cada cuánto se debe amamantar a un recién nac...</td>\n",
              "      <td>Se recomienda cada 2 o 3 horas, o a demanda.</td>\n",
              "    </tr>\n",
              "    <tr>\n",
              "      <th>1</th>\n",
              "      <td>¿Cómo sé si mi bebé está comiendo lo suficiente?</td>\n",
              "      <td>Si moja al menos 6 pañales al día y gana peso,...</td>\n",
              "    </tr>\n",
              "    <tr>\n",
              "      <th>2</th>\n",
              "      <td>¿Es normal que un bebé duerma muchas horas?</td>\n",
              "      <td>Sí, los recién nacidos pueden dormir entre 16 ...</td>\n",
              "    </tr>\n",
              "    <tr>\n",
              "      <th>3</th>\n",
              "      <td>¿Qué hacer si mi bebé llora mucho por la noche?</td>\n",
              "      <td>Puede tener gases, hambre o incomodidad. El co...</td>\n",
              "    </tr>\n",
              "    <tr>\n",
              "      <th>4</th>\n",
              "      <td>¿Cuándo debo llevar a mi bebé al pediatra por ...</td>\n",
              "      <td>Dentro de los primeros 7 días de vida.</td>\n",
              "    </tr>\n",
              "    <tr>\n",
              "      <th>5</th>\n",
              "      <td>¿Cómo cuidar el cordón umbilical?</td>\n",
              "      <td>Mantenerlo limpio y seco, sin cubrirlo demasiado.</td>\n",
              "    </tr>\n",
              "    <tr>\n",
              "      <th>6</th>\n",
              "      <td>¿Por qué mi bebé tiene hipo?</td>\n",
              "      <td>El hipo es común en los recién nacidos y suele...</td>\n",
              "    </tr>\n",
              "    <tr>\n",
              "      <th>7</th>\n",
              "      <td>¿Cuándo empieza un bebé a sonreír?</td>\n",
              "      <td>Generalmente entre las 4 y 6 semanas.</td>\n",
              "    </tr>\n",
              "    <tr>\n",
              "      <th>8</th>\n",
              "      <td>¿Mi bebé puede salir a pasear?</td>\n",
              "      <td>Sí, si el clima lo permite y se toman precauci...</td>\n",
              "    </tr>\n",
              "    <tr>\n",
              "      <th>9</th>\n",
              "      <td>¿Es normal que regurgite leche?</td>\n",
              "      <td>Sí, es común y normal si no hay signos de male...</td>\n",
              "    </tr>\n",
              "    <tr>\n",
              "      <th>10</th>\n",
              "      <td>¿Qué hacer si mi bebé tiene fiebre?</td>\n",
              "      <td>Consultar al pediatra si la temperatura supera...</td>\n",
              "    </tr>\n",
              "    <tr>\n",
              "      <th>11</th>\n",
              "      <td>¿Cuándo puedo empezar a darle comida sólida?</td>\n",
              "      <td>A partir de los 6 meses, si muestra signos de ...</td>\n",
              "    </tr>\n",
              "    <tr>\n",
              "      <th>12</th>\n",
              "      <td>¿Cómo calmar los cólicos?</td>\n",
              "      <td>Masajes suaves, mantenerlo en posición vertica...</td>\n",
              "    </tr>\n",
              "    <tr>\n",
              "      <th>13</th>\n",
              "      <td>¿Cuántas horas debe dormir un bebé de 3 meses?</td>\n",
              "      <td>Entre 14 y 16 horas diarias, incluyendo siestas.</td>\n",
              "    </tr>\n",
              "    <tr>\n",
              "      <th>14</th>\n",
              "      <td>¿Por qué mi bebé no quiere tomar la teta?</td>\n",
              "      <td>Puede estar incómodo, distraído o tener un pro...</td>\n",
              "    </tr>\n",
              "    <tr>\n",
              "      <th>15</th>\n",
              "      <td>¿Cuándo comienza a ver bien un bebé?</td>\n",
              "      <td>Desde el nacimiento distingue luces, y mejora ...</td>\n",
              "    </tr>\n",
              "    <tr>\n",
              "      <th>16</th>\n",
              "      <td>¿Cuándo se recomienda usar protector solar?</td>\n",
              "      <td>Después de los 6 meses, en zonas pequeñas y co...</td>\n",
              "    </tr>\n",
              "    <tr>\n",
              "      <th>17</th>\n",
              "      <td>¿Qué señales indican que un bebé está enfermo?</td>\n",
              "      <td>Fiebre, rechazo del alimento, decaimiento o ll...</td>\n",
              "    </tr>\n",
              "    <tr>\n",
              "      <th>18</th>\n",
              "      <td>¿Es seguro dormir con el bebé en la cama?</td>\n",
              "      <td>No se recomienda por riesgo de asfixia. Mejor ...</td>\n",
              "    </tr>\n",
              "    <tr>\n",
              "      <th>19</th>\n",
              "      <td>¿Cuántas veces debe hacer caca un recién nacido?</td>\n",
              "      <td>Puede ser varias veces al día o una cada pocos...</td>\n",
              "    </tr>\n",
              "  </tbody>\n",
              "</table>\n",
              "</div>\n",
              "    <div class=\"colab-df-buttons\">\n",
              "\n",
              "  <div class=\"colab-df-container\">\n",
              "    <button class=\"colab-df-convert\" onclick=\"convertToInteractive('df-6063d435-d2b9-4aea-8147-d752b34034fc')\"\n",
              "            title=\"Convert this dataframe to an interactive table.\"\n",
              "            style=\"display:none;\">\n",
              "\n",
              "  <svg xmlns=\"http://www.w3.org/2000/svg\" height=\"24px\" viewBox=\"0 -960 960 960\">\n",
              "    <path d=\"M120-120v-720h720v720H120Zm60-500h600v-160H180v160Zm220 220h160v-160H400v160Zm0 220h160v-160H400v160ZM180-400h160v-160H180v160Zm440 0h160v-160H620v160ZM180-180h160v-160H180v160Zm440 0h160v-160H620v160Z\"/>\n",
              "  </svg>\n",
              "    </button>\n",
              "\n",
              "  <style>\n",
              "    .colab-df-container {\n",
              "      display:flex;\n",
              "      gap: 12px;\n",
              "    }\n",
              "\n",
              "    .colab-df-convert {\n",
              "      background-color: #E8F0FE;\n",
              "      border: none;\n",
              "      border-radius: 50%;\n",
              "      cursor: pointer;\n",
              "      display: none;\n",
              "      fill: #1967D2;\n",
              "      height: 32px;\n",
              "      padding: 0 0 0 0;\n",
              "      width: 32px;\n",
              "    }\n",
              "\n",
              "    .colab-df-convert:hover {\n",
              "      background-color: #E2EBFA;\n",
              "      box-shadow: 0px 1px 2px rgba(60, 64, 67, 0.3), 0px 1px 3px 1px rgba(60, 64, 67, 0.15);\n",
              "      fill: #174EA6;\n",
              "    }\n",
              "\n",
              "    .colab-df-buttons div {\n",
              "      margin-bottom: 4px;\n",
              "    }\n",
              "\n",
              "    [theme=dark] .colab-df-convert {\n",
              "      background-color: #3B4455;\n",
              "      fill: #D2E3FC;\n",
              "    }\n",
              "\n",
              "    [theme=dark] .colab-df-convert:hover {\n",
              "      background-color: #434B5C;\n",
              "      box-shadow: 0px 1px 3px 1px rgba(0, 0, 0, 0.15);\n",
              "      filter: drop-shadow(0px 1px 2px rgba(0, 0, 0, 0.3));\n",
              "      fill: #FFFFFF;\n",
              "    }\n",
              "  </style>\n",
              "\n",
              "    <script>\n",
              "      const buttonEl =\n",
              "        document.querySelector('#df-6063d435-d2b9-4aea-8147-d752b34034fc button.colab-df-convert');\n",
              "      buttonEl.style.display =\n",
              "        google.colab.kernel.accessAllowed ? 'block' : 'none';\n",
              "\n",
              "      async function convertToInteractive(key) {\n",
              "        const element = document.querySelector('#df-6063d435-d2b9-4aea-8147-d752b34034fc');\n",
              "        const dataTable =\n",
              "          await google.colab.kernel.invokeFunction('convertToInteractive',\n",
              "                                                    [key], {});\n",
              "        if (!dataTable) return;\n",
              "\n",
              "        const docLinkHtml = 'Like what you see? Visit the ' +\n",
              "          '<a target=\"_blank\" href=https://colab.research.google.com/notebooks/data_table.ipynb>data table notebook</a>'\n",
              "          + ' to learn more about interactive tables.';\n",
              "        element.innerHTML = '';\n",
              "        dataTable['output_type'] = 'display_data';\n",
              "        await google.colab.output.renderOutput(dataTable, element);\n",
              "        const docLink = document.createElement('div');\n",
              "        docLink.innerHTML = docLinkHtml;\n",
              "        element.appendChild(docLink);\n",
              "      }\n",
              "    </script>\n",
              "  </div>\n",
              "\n",
              "\n",
              "    <div id=\"df-019ab80a-672c-42cb-8790-57913ad8c684\">\n",
              "      <button class=\"colab-df-quickchart\" onclick=\"quickchart('df-019ab80a-672c-42cb-8790-57913ad8c684')\"\n",
              "                title=\"Suggest charts\"\n",
              "                style=\"display:none;\">\n",
              "\n",
              "<svg xmlns=\"http://www.w3.org/2000/svg\" height=\"24px\"viewBox=\"0 0 24 24\"\n",
              "     width=\"24px\">\n",
              "    <g>\n",
              "        <path d=\"M19 3H5c-1.1 0-2 .9-2 2v14c0 1.1.9 2 2 2h14c1.1 0 2-.9 2-2V5c0-1.1-.9-2-2-2zM9 17H7v-7h2v7zm4 0h-2V7h2v10zm4 0h-2v-4h2v4z\"/>\n",
              "    </g>\n",
              "</svg>\n",
              "      </button>\n",
              "\n",
              "<style>\n",
              "  .colab-df-quickchart {\n",
              "      --bg-color: #E8F0FE;\n",
              "      --fill-color: #1967D2;\n",
              "      --hover-bg-color: #E2EBFA;\n",
              "      --hover-fill-color: #174EA6;\n",
              "      --disabled-fill-color: #AAA;\n",
              "      --disabled-bg-color: #DDD;\n",
              "  }\n",
              "\n",
              "  [theme=dark] .colab-df-quickchart {\n",
              "      --bg-color: #3B4455;\n",
              "      --fill-color: #D2E3FC;\n",
              "      --hover-bg-color: #434B5C;\n",
              "      --hover-fill-color: #FFFFFF;\n",
              "      --disabled-bg-color: #3B4455;\n",
              "      --disabled-fill-color: #666;\n",
              "  }\n",
              "\n",
              "  .colab-df-quickchart {\n",
              "    background-color: var(--bg-color);\n",
              "    border: none;\n",
              "    border-radius: 50%;\n",
              "    cursor: pointer;\n",
              "    display: none;\n",
              "    fill: var(--fill-color);\n",
              "    height: 32px;\n",
              "    padding: 0;\n",
              "    width: 32px;\n",
              "  }\n",
              "\n",
              "  .colab-df-quickchart:hover {\n",
              "    background-color: var(--hover-bg-color);\n",
              "    box-shadow: 0 1px 2px rgba(60, 64, 67, 0.3), 0 1px 3px 1px rgba(60, 64, 67, 0.15);\n",
              "    fill: var(--button-hover-fill-color);\n",
              "  }\n",
              "\n",
              "  .colab-df-quickchart-complete:disabled,\n",
              "  .colab-df-quickchart-complete:disabled:hover {\n",
              "    background-color: var(--disabled-bg-color);\n",
              "    fill: var(--disabled-fill-color);\n",
              "    box-shadow: none;\n",
              "  }\n",
              "\n",
              "  .colab-df-spinner {\n",
              "    border: 2px solid var(--fill-color);\n",
              "    border-color: transparent;\n",
              "    border-bottom-color: var(--fill-color);\n",
              "    animation:\n",
              "      spin 1s steps(1) infinite;\n",
              "  }\n",
              "\n",
              "  @keyframes spin {\n",
              "    0% {\n",
              "      border-color: transparent;\n",
              "      border-bottom-color: var(--fill-color);\n",
              "      border-left-color: var(--fill-color);\n",
              "    }\n",
              "    20% {\n",
              "      border-color: transparent;\n",
              "      border-left-color: var(--fill-color);\n",
              "      border-top-color: var(--fill-color);\n",
              "    }\n",
              "    30% {\n",
              "      border-color: transparent;\n",
              "      border-left-color: var(--fill-color);\n",
              "      border-top-color: var(--fill-color);\n",
              "      border-right-color: var(--fill-color);\n",
              "    }\n",
              "    40% {\n",
              "      border-color: transparent;\n",
              "      border-right-color: var(--fill-color);\n",
              "      border-top-color: var(--fill-color);\n",
              "    }\n",
              "    60% {\n",
              "      border-color: transparent;\n",
              "      border-right-color: var(--fill-color);\n",
              "    }\n",
              "    80% {\n",
              "      border-color: transparent;\n",
              "      border-right-color: var(--fill-color);\n",
              "      border-bottom-color: var(--fill-color);\n",
              "    }\n",
              "    90% {\n",
              "      border-color: transparent;\n",
              "      border-bottom-color: var(--fill-color);\n",
              "    }\n",
              "  }\n",
              "</style>\n",
              "\n",
              "      <script>\n",
              "        async function quickchart(key) {\n",
              "          const quickchartButtonEl =\n",
              "            document.querySelector('#' + key + ' button');\n",
              "          quickchartButtonEl.disabled = true;  // To prevent multiple clicks.\n",
              "          quickchartButtonEl.classList.add('colab-df-spinner');\n",
              "          try {\n",
              "            const charts = await google.colab.kernel.invokeFunction(\n",
              "                'suggestCharts', [key], {});\n",
              "          } catch (error) {\n",
              "            console.error('Error during call to suggestCharts:', error);\n",
              "          }\n",
              "          quickchartButtonEl.classList.remove('colab-df-spinner');\n",
              "          quickchartButtonEl.classList.add('colab-df-quickchart-complete');\n",
              "        }\n",
              "        (() => {\n",
              "          let quickchartButtonEl =\n",
              "            document.querySelector('#df-019ab80a-672c-42cb-8790-57913ad8c684 button');\n",
              "          quickchartButtonEl.style.display =\n",
              "            google.colab.kernel.accessAllowed ? 'block' : 'none';\n",
              "        })();\n",
              "      </script>\n",
              "    </div>\n",
              "\n",
              "    </div>\n",
              "  </div>\n"
            ],
            "application/vnd.google.colaboratory.intrinsic+json": {
              "type": "dataframe",
              "variable_name": "df",
              "summary": "{\n  \"name\": \"df\",\n  \"rows\": 20,\n  \"fields\": [\n    {\n      \"column\": \"Pregunta\",\n      \"properties\": {\n        \"dtype\": \"string\",\n        \"num_unique_values\": 20,\n        \"samples\": [\n          \"\\u00bfCada cu\\u00e1nto se debe amamantar a un reci\\u00e9n nacido?\",\n          \"\\u00bfQu\\u00e9 se\\u00f1ales indican que un beb\\u00e9 est\\u00e1 enfermo?\",\n          \"\\u00bfCu\\u00e1ndo comienza a ver bien un beb\\u00e9?\"\n        ],\n        \"semantic_type\": \"\",\n        \"description\": \"\"\n      }\n    },\n    {\n      \"column\": \"Respuesta\",\n      \"properties\": {\n        \"dtype\": \"string\",\n        \"num_unique_values\": 20,\n        \"samples\": [\n          \"Se recomienda cada 2 o 3 horas, o a demanda.\",\n          \"Fiebre, rechazo del alimento, decaimiento o llanto continuo.\",\n          \"Desde el nacimiento distingue luces, y mejora su visi\\u00f3n mes a mes.\"\n        ],\n        \"semantic_type\": \"\",\n        \"description\": \"\"\n      }\n    }\n  ]\n}"
            }
          },
          "metadata": {},
          "execution_count": 19
        }
      ]
    },
    {
      "cell_type": "code",
      "source": [
        "# Carga del modelo de spaCy y descarga de recursos\n",
        "nlp = spacy.load(\"es_core_news_sm\")\n",
        "nltk.download('stopwords')\n",
        "stopwords_es = set(nltk.corpus.stopwords.words('spanish'))"
      ],
      "metadata": {
        "id": "T51nT_Rg-HGB",
        "colab": {
          "base_uri": "https://localhost:8080/"
        },
        "outputId": "41295fcc-e885-4f43-e5cb-9109aecf3880"
      },
      "execution_count": 20,
      "outputs": [
        {
          "output_type": "stream",
          "name": "stderr",
          "text": [
            "[nltk_data] Downloading package stopwords to /root/nltk_data...\n",
            "[nltk_data]   Unzipping corpora/stopwords.zip.\n"
          ]
        }
      ]
    },
    {
      "cell_type": "markdown",
      "source": [
        "## 2. Definimos funciones de limpieza y lematización"
      ],
      "metadata": {
        "id": "ilzJvnb0-KWC"
      }
    },
    {
      "cell_type": "code",
      "source": [
        "# Función para limpieza básica del texto\n",
        "def limpiar_texto(text):\n",
        "    text = text.lower()  # todo a minúsculas\n",
        "    text = re.sub(r'[.!¿?¡,\"\\':“”«»…]', '', text)  # eliminar signos de puntuación\n",
        "    text = re.sub(r'\\s+', ' ', text).strip()  # reemplazar múltiples espacios\n",
        "    text = re.sub(r'[^a-zñáéíóúü\\s]', '', text)  # quitar caracteres no alfabéticos\n",
        "    return text\n",
        "\n",
        "# Función para lematizar y eliminar stopwords\n",
        "def lematizar_y_filtrar(text):\n",
        "    doc = nlp(text)\n",
        "    lemas = [token.lemma_ for token in doc if token.lemma_ not in stopwords_es and token.is_alpha]\n",
        "    return \" \".join(lemas)\n",
        "\n",
        "# Función general de procesamiento de preguntas\n",
        "def procesar_preguntas(preguntas):\n",
        "    preguntas_limpias = [limpiar_texto(q) for q in preguntas]\n",
        "    preguntas_procesadas = [lematizar_y_filtrar(q) for q in preguntas_limpias]\n",
        "    return preguntas_procesadas\n"
      ],
      "metadata": {
        "id": "pexW_bIw-iUn"
      },
      "execution_count": 21,
      "outputs": []
    },
    {
      "cell_type": "markdown",
      "source": [
        "- Se definieron funciones para limpiar texto (eliminando signos, espacios y caracteres no alfabéticos) y para lematizar eliminando stopwords. Luego, se creó una función que aplica ambas transformaciones a una lista de preguntas."
      ],
      "metadata": {
        "id": "NThfungVsCFv"
      }
    },
    {
      "cell_type": "markdown",
      "source": [
        "## Aplicamos procesamiento al DataFrame"
      ],
      "metadata": {
        "id": "QIwIgWKi-M-H"
      }
    },
    {
      "cell_type": "code",
      "source": [
        "# Procesar la columna 'Pregunta' del DataFrame\n",
        "preguntas_procesadas = procesar_preguntas(df['Pregunta'].tolist())\n",
        "\n",
        "# Agregar nueva columna al DataFrame\n",
        "df['Pregunta_procesada'] = preguntas_procesadas\n",
        "\n",
        "# Mostrar una muestra\n",
        "df[['Pregunta', 'Pregunta_procesada']].head()\n"
      ],
      "metadata": {
        "colab": {
          "base_uri": "https://localhost:8080/",
          "height": 206
        },
        "id": "-7lvvctG-Msb",
        "outputId": "2fe93322-5744-4f01-bda7-66030f585996"
      },
      "execution_count": 22,
      "outputs": [
        {
          "output_type": "execute_result",
          "data": {
            "text/plain": [
              "                                            Pregunta  \\\n",
              "0  ¿Cada cuánto se debe amamantar a un recién nac...   \n",
              "1   ¿Cómo sé si mi bebé está comiendo lo suficiente?   \n",
              "2        ¿Es normal que un bebé duerma muchas horas?   \n",
              "3    ¿Qué hacer si mi bebé llora mucho por la noche?   \n",
              "4  ¿Cuándo debo llevar a mi bebé al pediatra por ...   \n",
              "\n",
              "                              Pregunta_procesada  \n",
              "0      cada cuánto deber amamantar recién nacido  \n",
              "1            cómo saber si bebé comer suficiente  \n",
              "2                   ser normal bebé duermar hora  \n",
              "3                     hacer si bebé llorar noche  \n",
              "4  cuándo deber llevar bebé pediatra primero vez  "
            ],
            "text/html": [
              "\n",
              "  <div id=\"df-1c618001-7213-4be6-ab0b-044e2ea26576\" class=\"colab-df-container\">\n",
              "    <div>\n",
              "<style scoped>\n",
              "    .dataframe tbody tr th:only-of-type {\n",
              "        vertical-align: middle;\n",
              "    }\n",
              "\n",
              "    .dataframe tbody tr th {\n",
              "        vertical-align: top;\n",
              "    }\n",
              "\n",
              "    .dataframe thead th {\n",
              "        text-align: right;\n",
              "    }\n",
              "</style>\n",
              "<table border=\"1\" class=\"dataframe\">\n",
              "  <thead>\n",
              "    <tr style=\"text-align: right;\">\n",
              "      <th></th>\n",
              "      <th>Pregunta</th>\n",
              "      <th>Pregunta_procesada</th>\n",
              "    </tr>\n",
              "  </thead>\n",
              "  <tbody>\n",
              "    <tr>\n",
              "      <th>0</th>\n",
              "      <td>¿Cada cuánto se debe amamantar a un recién nac...</td>\n",
              "      <td>cada cuánto deber amamantar recién nacido</td>\n",
              "    </tr>\n",
              "    <tr>\n",
              "      <th>1</th>\n",
              "      <td>¿Cómo sé si mi bebé está comiendo lo suficiente?</td>\n",
              "      <td>cómo saber si bebé comer suficiente</td>\n",
              "    </tr>\n",
              "    <tr>\n",
              "      <th>2</th>\n",
              "      <td>¿Es normal que un bebé duerma muchas horas?</td>\n",
              "      <td>ser normal bebé duermar hora</td>\n",
              "    </tr>\n",
              "    <tr>\n",
              "      <th>3</th>\n",
              "      <td>¿Qué hacer si mi bebé llora mucho por la noche?</td>\n",
              "      <td>hacer si bebé llorar noche</td>\n",
              "    </tr>\n",
              "    <tr>\n",
              "      <th>4</th>\n",
              "      <td>¿Cuándo debo llevar a mi bebé al pediatra por ...</td>\n",
              "      <td>cuándo deber llevar bebé pediatra primero vez</td>\n",
              "    </tr>\n",
              "  </tbody>\n",
              "</table>\n",
              "</div>\n",
              "    <div class=\"colab-df-buttons\">\n",
              "\n",
              "  <div class=\"colab-df-container\">\n",
              "    <button class=\"colab-df-convert\" onclick=\"convertToInteractive('df-1c618001-7213-4be6-ab0b-044e2ea26576')\"\n",
              "            title=\"Convert this dataframe to an interactive table.\"\n",
              "            style=\"display:none;\">\n",
              "\n",
              "  <svg xmlns=\"http://www.w3.org/2000/svg\" height=\"24px\" viewBox=\"0 -960 960 960\">\n",
              "    <path d=\"M120-120v-720h720v720H120Zm60-500h600v-160H180v160Zm220 220h160v-160H400v160Zm0 220h160v-160H400v160ZM180-400h160v-160H180v160Zm440 0h160v-160H620v160ZM180-180h160v-160H180v160Zm440 0h160v-160H620v160Z\"/>\n",
              "  </svg>\n",
              "    </button>\n",
              "\n",
              "  <style>\n",
              "    .colab-df-container {\n",
              "      display:flex;\n",
              "      gap: 12px;\n",
              "    }\n",
              "\n",
              "    .colab-df-convert {\n",
              "      background-color: #E8F0FE;\n",
              "      border: none;\n",
              "      border-radius: 50%;\n",
              "      cursor: pointer;\n",
              "      display: none;\n",
              "      fill: #1967D2;\n",
              "      height: 32px;\n",
              "      padding: 0 0 0 0;\n",
              "      width: 32px;\n",
              "    }\n",
              "\n",
              "    .colab-df-convert:hover {\n",
              "      background-color: #E2EBFA;\n",
              "      box-shadow: 0px 1px 2px rgba(60, 64, 67, 0.3), 0px 1px 3px 1px rgba(60, 64, 67, 0.15);\n",
              "      fill: #174EA6;\n",
              "    }\n",
              "\n",
              "    .colab-df-buttons div {\n",
              "      margin-bottom: 4px;\n",
              "    }\n",
              "\n",
              "    [theme=dark] .colab-df-convert {\n",
              "      background-color: #3B4455;\n",
              "      fill: #D2E3FC;\n",
              "    }\n",
              "\n",
              "    [theme=dark] .colab-df-convert:hover {\n",
              "      background-color: #434B5C;\n",
              "      box-shadow: 0px 1px 3px 1px rgba(0, 0, 0, 0.15);\n",
              "      filter: drop-shadow(0px 1px 2px rgba(0, 0, 0, 0.3));\n",
              "      fill: #FFFFFF;\n",
              "    }\n",
              "  </style>\n",
              "\n",
              "    <script>\n",
              "      const buttonEl =\n",
              "        document.querySelector('#df-1c618001-7213-4be6-ab0b-044e2ea26576 button.colab-df-convert');\n",
              "      buttonEl.style.display =\n",
              "        google.colab.kernel.accessAllowed ? 'block' : 'none';\n",
              "\n",
              "      async function convertToInteractive(key) {\n",
              "        const element = document.querySelector('#df-1c618001-7213-4be6-ab0b-044e2ea26576');\n",
              "        const dataTable =\n",
              "          await google.colab.kernel.invokeFunction('convertToInteractive',\n",
              "                                                    [key], {});\n",
              "        if (!dataTable) return;\n",
              "\n",
              "        const docLinkHtml = 'Like what you see? Visit the ' +\n",
              "          '<a target=\"_blank\" href=https://colab.research.google.com/notebooks/data_table.ipynb>data table notebook</a>'\n",
              "          + ' to learn more about interactive tables.';\n",
              "        element.innerHTML = '';\n",
              "        dataTable['output_type'] = 'display_data';\n",
              "        await google.colab.output.renderOutput(dataTable, element);\n",
              "        const docLink = document.createElement('div');\n",
              "        docLink.innerHTML = docLinkHtml;\n",
              "        element.appendChild(docLink);\n",
              "      }\n",
              "    </script>\n",
              "  </div>\n",
              "\n",
              "\n",
              "    <div id=\"df-f70a9d5c-78a7-4672-bc6d-7d931f472f54\">\n",
              "      <button class=\"colab-df-quickchart\" onclick=\"quickchart('df-f70a9d5c-78a7-4672-bc6d-7d931f472f54')\"\n",
              "                title=\"Suggest charts\"\n",
              "                style=\"display:none;\">\n",
              "\n",
              "<svg xmlns=\"http://www.w3.org/2000/svg\" height=\"24px\"viewBox=\"0 0 24 24\"\n",
              "     width=\"24px\">\n",
              "    <g>\n",
              "        <path d=\"M19 3H5c-1.1 0-2 .9-2 2v14c0 1.1.9 2 2 2h14c1.1 0 2-.9 2-2V5c0-1.1-.9-2-2-2zM9 17H7v-7h2v7zm4 0h-2V7h2v10zm4 0h-2v-4h2v4z\"/>\n",
              "    </g>\n",
              "</svg>\n",
              "      </button>\n",
              "\n",
              "<style>\n",
              "  .colab-df-quickchart {\n",
              "      --bg-color: #E8F0FE;\n",
              "      --fill-color: #1967D2;\n",
              "      --hover-bg-color: #E2EBFA;\n",
              "      --hover-fill-color: #174EA6;\n",
              "      --disabled-fill-color: #AAA;\n",
              "      --disabled-bg-color: #DDD;\n",
              "  }\n",
              "\n",
              "  [theme=dark] .colab-df-quickchart {\n",
              "      --bg-color: #3B4455;\n",
              "      --fill-color: #D2E3FC;\n",
              "      --hover-bg-color: #434B5C;\n",
              "      --hover-fill-color: #FFFFFF;\n",
              "      --disabled-bg-color: #3B4455;\n",
              "      --disabled-fill-color: #666;\n",
              "  }\n",
              "\n",
              "  .colab-df-quickchart {\n",
              "    background-color: var(--bg-color);\n",
              "    border: none;\n",
              "    border-radius: 50%;\n",
              "    cursor: pointer;\n",
              "    display: none;\n",
              "    fill: var(--fill-color);\n",
              "    height: 32px;\n",
              "    padding: 0;\n",
              "    width: 32px;\n",
              "  }\n",
              "\n",
              "  .colab-df-quickchart:hover {\n",
              "    background-color: var(--hover-bg-color);\n",
              "    box-shadow: 0 1px 2px rgba(60, 64, 67, 0.3), 0 1px 3px 1px rgba(60, 64, 67, 0.15);\n",
              "    fill: var(--button-hover-fill-color);\n",
              "  }\n",
              "\n",
              "  .colab-df-quickchart-complete:disabled,\n",
              "  .colab-df-quickchart-complete:disabled:hover {\n",
              "    background-color: var(--disabled-bg-color);\n",
              "    fill: var(--disabled-fill-color);\n",
              "    box-shadow: none;\n",
              "  }\n",
              "\n",
              "  .colab-df-spinner {\n",
              "    border: 2px solid var(--fill-color);\n",
              "    border-color: transparent;\n",
              "    border-bottom-color: var(--fill-color);\n",
              "    animation:\n",
              "      spin 1s steps(1) infinite;\n",
              "  }\n",
              "\n",
              "  @keyframes spin {\n",
              "    0% {\n",
              "      border-color: transparent;\n",
              "      border-bottom-color: var(--fill-color);\n",
              "      border-left-color: var(--fill-color);\n",
              "    }\n",
              "    20% {\n",
              "      border-color: transparent;\n",
              "      border-left-color: var(--fill-color);\n",
              "      border-top-color: var(--fill-color);\n",
              "    }\n",
              "    30% {\n",
              "      border-color: transparent;\n",
              "      border-left-color: var(--fill-color);\n",
              "      border-top-color: var(--fill-color);\n",
              "      border-right-color: var(--fill-color);\n",
              "    }\n",
              "    40% {\n",
              "      border-color: transparent;\n",
              "      border-right-color: var(--fill-color);\n",
              "      border-top-color: var(--fill-color);\n",
              "    }\n",
              "    60% {\n",
              "      border-color: transparent;\n",
              "      border-right-color: var(--fill-color);\n",
              "    }\n",
              "    80% {\n",
              "      border-color: transparent;\n",
              "      border-right-color: var(--fill-color);\n",
              "      border-bottom-color: var(--fill-color);\n",
              "    }\n",
              "    90% {\n",
              "      border-color: transparent;\n",
              "      border-bottom-color: var(--fill-color);\n",
              "    }\n",
              "  }\n",
              "</style>\n",
              "\n",
              "      <script>\n",
              "        async function quickchart(key) {\n",
              "          const quickchartButtonEl =\n",
              "            document.querySelector('#' + key + ' button');\n",
              "          quickchartButtonEl.disabled = true;  // To prevent multiple clicks.\n",
              "          quickchartButtonEl.classList.add('colab-df-spinner');\n",
              "          try {\n",
              "            const charts = await google.colab.kernel.invokeFunction(\n",
              "                'suggestCharts', [key], {});\n",
              "          } catch (error) {\n",
              "            console.error('Error during call to suggestCharts:', error);\n",
              "          }\n",
              "          quickchartButtonEl.classList.remove('colab-df-spinner');\n",
              "          quickchartButtonEl.classList.add('colab-df-quickchart-complete');\n",
              "        }\n",
              "        (() => {\n",
              "          let quickchartButtonEl =\n",
              "            document.querySelector('#df-f70a9d5c-78a7-4672-bc6d-7d931f472f54 button');\n",
              "          quickchartButtonEl.style.display =\n",
              "            google.colab.kernel.accessAllowed ? 'block' : 'none';\n",
              "        })();\n",
              "      </script>\n",
              "    </div>\n",
              "\n",
              "    </div>\n",
              "  </div>\n"
            ],
            "application/vnd.google.colaboratory.intrinsic+json": {
              "type": "dataframe",
              "summary": "{\n  \"name\": \"df[['Pregunta', 'Pregunta_procesada']]\",\n  \"rows\": 5,\n  \"fields\": [\n    {\n      \"column\": \"Pregunta\",\n      \"properties\": {\n        \"dtype\": \"string\",\n        \"num_unique_values\": 5,\n        \"samples\": [\n          \"\\u00bfC\\u00f3mo s\\u00e9 si mi beb\\u00e9 est\\u00e1 comiendo lo suficiente?\",\n          \"\\u00bfCu\\u00e1ndo debo llevar a mi beb\\u00e9 al pediatra por primera vez?\",\n          \"\\u00bfEs normal que un beb\\u00e9 duerma muchas horas?\"\n        ],\n        \"semantic_type\": \"\",\n        \"description\": \"\"\n      }\n    },\n    {\n      \"column\": \"Pregunta_procesada\",\n      \"properties\": {\n        \"dtype\": \"string\",\n        \"num_unique_values\": 5,\n        \"samples\": [\n          \"c\\u00f3mo saber si beb\\u00e9 comer suficiente\",\n          \"cu\\u00e1ndo deber llevar beb\\u00e9 pediatra primero vez\",\n          \"ser normal beb\\u00e9 duermar hora\"\n        ],\n        \"semantic_type\": \"\",\n        \"description\": \"\"\n      }\n    }\n  ]\n}"
            }
          },
          "metadata": {},
          "execution_count": 22
        }
      ]
    },
    {
      "cell_type": "markdown",
      "source": [
        "## Vectorizamos usando TF-IDF"
      ],
      "metadata": {
        "id": "TwWy529yDQDm"
      }
    },
    {
      "cell_type": "code",
      "source": [
        "# Crear vectorizador TF-IDF\n",
        "vectorizer = TfidfVectorizer()\n",
        "\n",
        "# Aplicar vectorización\n",
        "X = vectorizer.fit_transform(df['Pregunta_procesada'])\n",
        "\n",
        "# Mostrar la forma de la matriz TF-IDF\n",
        "print(\"Dimensiones de la matriz TF-IDF:\", X.shape)\n"
      ],
      "metadata": {
        "id": "QeUhaIGsCyP2",
        "colab": {
          "base_uri": "https://localhost:8080/"
        },
        "outputId": "f01ff759-a354-43df-af27-bc7dcc1713d4"
      },
      "execution_count": 23,
      "outputs": [
        {
          "output_type": "stream",
          "name": "stdout",
          "text": [
            "Dimensiones de la matriz TF-IDF: (20, 63)\n"
          ]
        }
      ]
    },
    {
      "cell_type": "markdown",
      "source": [
        "- Se utilizó TfidfVectorizer para transformar las preguntas procesadas en una matriz TF-IDF. El resultado es una matriz de 20 documentos y 63 términos únicos."
      ],
      "metadata": {
        "id": "NmPPfysGssCZ"
      }
    },
    {
      "cell_type": "markdown",
      "source": [
        "## Chatbot con TF-IDF y evaluamos la similitud del coseno"
      ],
      "metadata": {
        "id": "oN2P-NilEH22"
      }
    },
    {
      "cell_type": "code",
      "source": [
        "def responder_chatbot(pregunta_usuario, df, vectorizer, X):\n",
        "    # Limpiar y procesar la pregunta del usuario\n",
        "    pregunta_limpia = limpiar_texto(pregunta_usuario)\n",
        "    pregunta_procesada = lematizar_y_filtrar(pregunta_limpia)\n",
        "\n",
        "    # Vectorizar la pregunta del usuario\n",
        "    vector_usuario = vectorizer.transform([pregunta_procesada])\n",
        "\n",
        "    # Calcular similitud de coseno con todas las preguntas\n",
        "    similitudes = cosine_similarity(vector_usuario, X)\n",
        "\n",
        "    # Obtener el índice de la pregunta más similar\n",
        "    idx_mas_similar = similitudes.argmax()\n",
        "    similitud_max = similitudes[0, idx_mas_similar]\n",
        "\n",
        "    # Recuperar pregunta y respuesta original\n",
        "    pregunta_encontrada = df.iloc[idx_mas_similar]['Pregunta']\n",
        "    respuesta = df.iloc[idx_mas_similar]['Respuesta']\n",
        "\n",
        "    # Devolver resultado\n",
        "    return pregunta_encontrada, respuesta, similitud_max\n"
      ],
      "metadata": {
        "id": "LQfBWCikELzc"
      },
      "execution_count": 24,
      "outputs": []
    },
    {
      "cell_type": "markdown",
      "source": [
        "- Se definió una función para responder preguntas del usuario buscando la más similar en el dataset usando similitud de coseno sobre vectores TF-IDF. Luego, devuelve la pregunta más parecida, su respuesta y el nivel de similitud."
      ],
      "metadata": {
        "id": "bFbEP1bTtn4D"
      }
    },
    {
      "cell_type": "markdown",
      "source": [
        "## Probamos Chatbot"
      ],
      "metadata": {
        "id": "IjqIbjuLH4Kg"
      }
    },
    {
      "cell_type": "code",
      "source": [
        "# Pregunta de ejemplo\n",
        "pregunta_usuario = \"¿Cada cuánto se debe amamantar a un recién nacido?\"\n",
        "\n",
        "pregunta_encontrada, respuesta, score = responder_chatbot(pregunta_usuario, df, vectorizer, X)\n",
        "\n",
        "print(\"Pregunta encontrada:\", pregunta_encontrada)\n",
        "print(\"Respuesta:\", respuesta)\n",
        "print(\"Similitud:\", round(score, 2))\n",
        "\n"
      ],
      "metadata": {
        "id": "WN-YIJqdH7Fq",
        "colab": {
          "base_uri": "https://localhost:8080/"
        },
        "outputId": "5090f0cb-d3a0-4fb8-f0ce-3cb48c6ecc0c"
      },
      "execution_count": 25,
      "outputs": [
        {
          "output_type": "stream",
          "name": "stdout",
          "text": [
            "Pregunta encontrada: ¿Cada cuánto se debe amamantar a un recién nacido?\n",
            "Respuesta: Se recomienda cada 2 o 3 horas, o a demanda.\n",
            "Similitud: 1.0\n"
          ]
        }
      ]
    },
    {
      "cell_type": "code",
      "source": [
        "# Pregunta de ejemplo\n",
        "pregunta_usuario = \"amamantar\"\n",
        "\n",
        "pregunta_encontrada, respuesta, score = responder_chatbot(pregunta_usuario, df, vectorizer, X)\n",
        "\n",
        "print(\"Pregunta encontrada:\", pregunta_encontrada)\n",
        "print(\"Respuesta:\", respuesta)\n",
        "print(\"Similitud:\", round(score, 2))\n"
      ],
      "metadata": {
        "colab": {
          "base_uri": "https://localhost:8080/"
        },
        "id": "HkggZdr9tc0R",
        "outputId": "c665c14d-9826-4288-d92d-ca0b062577cf"
      },
      "execution_count": 26,
      "outputs": [
        {
          "output_type": "stream",
          "name": "stdout",
          "text": [
            "Pregunta encontrada: ¿Cada cuánto se debe amamantar a un recién nacido?\n",
            "Respuesta: Se recomienda cada 2 o 3 horas, o a demanda.\n",
            "Similitud: 0.44\n"
          ]
        }
      ]
    },
    {
      "cell_type": "markdown",
      "source": [
        "- Se probaron una pregunta completa y una palabra clave; ambas devolvieron la misma respuesta, con similitud 1.0 y 0.44 respectivamente, mostrando que el modelo reconoce coincidencias exactas y aproximadas."
      ],
      "metadata": {
        "id": "bOwUmJaWty61"
      }
    },
    {
      "cell_type": "markdown",
      "source": [
        "# 3. Crear otro chatbot utilizando embeddings"
      ],
      "metadata": {
        "id": "cgHXncrcNA6U"
      }
    },
    {
      "cell_type": "markdown",
      "source": [
        "###Embedding elegido -> MiniLm: Se utiliza el modelo preentrenado paraphrase-multilingual-MiniLM-L12-v2 de SentenceTransformers, diseñado para comparar similitud semántica entre textos en múltiples idiomas, incluido el español. Osea, permite comparar preguntas aunque estén redactadas con diferentes palabras"
      ],
      "metadata": {
        "id": "I7sUW6C5Qy2n"
      }
    },
    {
      "cell_type": "code",
      "source": [
        "# Importación de librerias\n",
        "from sentence_transformers import SentenceTransformer\n",
        "from sentence_transformers.util import cos_sim"
      ],
      "metadata": {
        "id": "7T1EejpVPhYI"
      },
      "execution_count": 27,
      "outputs": []
    },
    {
      "cell_type": "markdown",
      "source": [
        "## Carga de modelo y codificación de preguntas"
      ],
      "metadata": {
        "id": "i-IVQm0JSNkV"
      }
    },
    {
      "cell_type": "code",
      "source": [
        "# Cargar modelo preentrenado\n",
        "modelo_embedding = SentenceTransformer('paraphrase-multilingual-MiniLM-L12-v2')\n",
        "\n",
        "# Corpus de preguntas (evita nulos)\n",
        "preguntas_corpus = df['Pregunta'].fillna('').tolist()\n",
        "\n",
        "# Codificar preguntas en vectores numéricos\n",
        "embeddings_corpus = modelo_embedding.encode(preguntas_corpus, convert_to_tensor=True)"
      ],
      "metadata": {
        "id": "JMK7zZTfQslB"
      },
      "execution_count": 28,
      "outputs": []
    },
    {
      "cell_type": "markdown",
      "source": [
        "## Chatbot con embeddings MiniLm"
      ],
      "metadata": {
        "id": "J2TdcWy-SYB1"
      }
    },
    {
      "cell_type": "code",
      "source": [
        "def chatbot_responder_minilm(pregunta_usuario):\n",
        "    entrada = pregunta_usuario.lower().strip()\n",
        "\n",
        "    # Saludo simple\n",
        "    if entrada in ['hola', 'buenas', 'buen día', 'buenas tardes', 'buenas noches', 'qué tal', 'saludos']:\n",
        "        return \"Hola, ¿en qué puedo ayudarte?\"\n",
        "\n",
        "    # Codificar la pregunta del usuario\n",
        "    pregunta_emb = modelo_embedding.encode(entrada, convert_to_tensor=True)\n",
        "    similitudes = cos_sim(pregunta_emb, embeddings_corpus)[0]\n",
        "\n",
        "    # Obtener la mejor coincidencia\n",
        "    idx_max = similitudes.argmax().item()\n",
        "    score_max = similitudes[idx_max].item()\n",
        "\n",
        "    # Evaluar umbral de similitud\n",
        "    if score_max > 0.5:\n",
        "        return df.iloc[idx_max]['Respuesta']\n",
        "    else:\n",
        "        return \"Lo siento, no encuentro una respuesta clara. ¿Querés reformular la pregunta?\"\n"
      ],
      "metadata": {
        "id": "aB-f7qCCSGGO"
      },
      "execution_count": 29,
      "outputs": []
    },
    {
      "cell_type": "markdown",
      "source": [
        "## Evaluación similitud del coseno"
      ],
      "metadata": {
        "id": "MJtzMbynfTsg"
      }
    },
    {
      "cell_type": "code",
      "source": [
        "def evaluar_similitud_minilm(pregunta_usuario):\n",
        "    pregunta_emb = modelo_embedding.encode(pregunta_usuario, convert_to_tensor=True)\n",
        "    similitudes = cos_sim(pregunta_emb, embeddings_corpus)[0].cpu().numpy()\n",
        "\n",
        "    idx_max = similitudes.argmax()\n",
        "    score_max = similitudes[idx_max]\n",
        "    respuesta = df.iloc[idx_max]['Respuesta']\n",
        "\n",
        "    print(f\"Pregunta original:        {pregunta_usuario}\")\n",
        "    print(f\"Similitud máxima:         {score_max:.4f}\")\n",
        "    print(f\"Índice en dataset:        {idx_max}\")\n",
        "    print(f\"Pregunta coincidente:     {df.iloc[idx_max]['Pregunta']}\")\n",
        "    print(f\"Respuesta sugerida:       {respuesta}\")\n",
        "\n",
        "    return score_max, idx_max, respuesta"
      ],
      "metadata": {
        "id": "ZoiFpnJ6fZma"
      },
      "execution_count": 30,
      "outputs": []
    },
    {
      "cell_type": "markdown",
      "source": [
        "##Ejemplo de evaluación"
      ],
      "metadata": {
        "id": "Ie5DGdTEyzBl"
      }
    },
    {
      "cell_type": "code",
      "source": [
        "evaluar_similitud_minilm(\"amamantar\")"
      ],
      "metadata": {
        "colab": {
          "base_uri": "https://localhost:8080/"
        },
        "id": "uFJ4nqxIy6Ln",
        "outputId": "7fb15094-f645-48f4-d7bc-ad272dbb5789"
      },
      "execution_count": 31,
      "outputs": [
        {
          "output_type": "stream",
          "name": "stdout",
          "text": [
            "Pregunta original:        amamantar\n",
            "Similitud máxima:         0.3056\n",
            "Índice en dataset:        12\n",
            "Pregunta coincidente:     ¿Cómo calmar los cólicos?\n",
            "Respuesta sugerida:       Masajes suaves, mantenerlo en posición vertical y mover sus piernas pueden ayudar.\n"
          ]
        },
        {
          "output_type": "execute_result",
          "data": {
            "text/plain": [
              "(np.float32(0.30556706),\n",
              " np.int64(12),\n",
              " 'Masajes suaves, mantenerlo en posición vertical y mover sus piernas pueden ayudar.')"
            ]
          },
          "metadata": {},
          "execution_count": 31
        }
      ]
    },
    {
      "cell_type": "markdown",
      "source": [
        "- El modelo identificó una pregunta relacionada aunque no exacta (“¿Cómo calmar los cólicos?”) frente a la consulta “amamantar”, con una similitud baja (0.31), lo que indica que con frases aisladas pierde precisión semántica. Esto sugiere que funciona mejor con preguntas más completas.\n",
        "\n"
      ],
      "metadata": {
        "id": "IlCZyehGUHsS"
      }
    },
    {
      "cell_type": "markdown",
      "source": [
        "##Ejemplo de evaluación 2"
      ],
      "metadata": {
        "id": "TLfSdCAdzzU7"
      }
    },
    {
      "cell_type": "code",
      "source": [
        "evaluar_similitud_minilm(\"¿Cada cuánto tiempo hay que amamantar a un recién nacido?\")"
      ],
      "metadata": {
        "colab": {
          "base_uri": "https://localhost:8080/"
        },
        "id": "8iD0VOj1ziMD",
        "outputId": "aa76dc0e-d047-4982-c572-4ed087bcfe1e"
      },
      "execution_count": 32,
      "outputs": [
        {
          "output_type": "stream",
          "name": "stdout",
          "text": [
            "Pregunta original:        ¿Cada cuánto tiempo hay que amamantar a un recién nacido?\n",
            "Similitud máxima:         0.9570\n",
            "Índice en dataset:        0\n",
            "Pregunta coincidente:     ¿Cada cuánto se debe amamantar a un recién nacido?\n",
            "Respuesta sugerida:       Se recomienda cada 2 o 3 horas, o a demanda.\n"
          ]
        },
        {
          "output_type": "execute_result",
          "data": {
            "text/plain": [
              "(np.float32(0.9570277),\n",
              " np.int64(0),\n",
              " 'Se recomienda cada 2 o 3 horas, o a demanda.')"
            ]
          },
          "metadata": {},
          "execution_count": 32
        }
      ]
    },
    {
      "cell_type": "markdown",
      "source": [
        "- Con una pregunta más completa, el modelo alcanzó una similitud muy alta (0.96), identificando con precisión la coincidencia semántica. Esto confirma que los embeddings funcionan mejor cuando la consulta del usuario contiene más contexto."
      ],
      "metadata": {
        "id": "zGBacRt9zkuk"
      }
    },
    {
      "cell_type": "markdown",
      "source": [
        "## 4. Muestra ambos chatbots funcionando\n",
        "\n",
        "En esta sección se prueban ambos chatbots (uno con TF-IDF y otro con embeddings MiniLM) con una lista de preguntas reformuladas para analizar su capacidad de entender distintos modos de expresión."
      ],
      "metadata": {
        "id": "kGxapUlqWK3w"
      }
    },
    {
      "cell_type": "markdown",
      "source": [
        "## Lista de preguntas reformuladas para ver la similitud"
      ],
      "metadata": {
        "id": "jer5SyAyWt7l"
      }
    },
    {
      "cell_type": "code",
      "source": [
        "# Lista de preguntas reformuladas para probar ambos chatbots\n",
        "lista_preguntas = [\n",
        "    \"amamantar\",\n",
        "    \"¿Cada cuánto se debe amamantar a un bebé?\",\n",
        "    \"¿Mi hijo tiene hambre si llora mucho?\",\n",
        "    \"¿Qué pasa si mi bebé no toma el pecho?\",\n",
        "    \"¿Es normal que pida mamar seguido?\",\n",
        "    \"¿Con qué frecuencia debo darle de comer a un recién nacido?\"\n",
        "]"
      ],
      "metadata": {
        "id": "zgrLQ9hRWPm2"
      },
      "execution_count": 33,
      "outputs": []
    },
    {
      "cell_type": "markdown",
      "source": [
        "## Prueba del Chatbot con TF-IDF"
      ],
      "metadata": {
        "id": "OOwONPGyEtuw"
      }
    },
    {
      "cell_type": "code",
      "source": [
        "print(\"Prueba del Chatbot con TF-IDF\\n\")\n",
        "\n",
        "for pregunta in lista_preguntas:\n",
        "    encontrada, respuesta, score = responder_chatbot(pregunta, df, vectorizer, X)\n",
        "    print(f\"Tú: {pregunta}\")\n",
        "    print(f\"Chatbot: {respuesta} (Similitud: {round(score, 2)})\\n\")\n",
        "\n"
      ],
      "metadata": {
        "id": "-FvWg5mWZ1o0",
        "colab": {
          "base_uri": "https://localhost:8080/"
        },
        "outputId": "6deaccd4-167b-4ad6-86b2-708cc6a09e3f"
      },
      "execution_count": 34,
      "outputs": [
        {
          "output_type": "stream",
          "name": "stdout",
          "text": [
            "Prueba del Chatbot con TF-IDF\n",
            "\n",
            "Tú: amamantar\n",
            "Chatbot: Se recomienda cada 2 o 3 horas, o a demanda. (Similitud: 0.44)\n",
            "\n",
            "Tú: ¿Cada cuánto se debe amamantar a un bebé?\n",
            "Chatbot: Se recomienda cada 2 o 3 horas, o a demanda. (Similitud: 0.81)\n",
            "\n",
            "Tú: ¿Mi hijo tiene hambre si llora mucho?\n",
            "Chatbot: Puede tener gases, hambre o incomodidad. El contacto físico y los masajes pueden ayudar. (Similitud: 0.57)\n",
            "\n",
            "Tú: ¿Qué pasa si mi bebé no toma el pecho?\n",
            "Chatbot: Puede estar incómodo, distraído o tener un problema físico. Consultar con una asesora de lactancia. (Similitud: 0.49)\n",
            "\n",
            "Tú: ¿Es normal que pida mamar seguido?\n",
            "Chatbot: Sí, los recién nacidos pueden dormir entre 16 y 18 horas al día. (Similitud: 0.65)\n",
            "\n",
            "Tú: ¿Con qué frecuencia debo darle de comer a un recién nacido?\n",
            "Chatbot: Se recomienda cada 2 o 3 horas, o a demanda. (Similitud: 0.41)\n",
            "\n"
          ]
        }
      ]
    },
    {
      "cell_type": "markdown",
      "source": [
        "## Prueba del Chatbot con Embeddings"
      ],
      "metadata": {
        "id": "fUxHB9sca8LG"
      }
    },
    {
      "cell_type": "code",
      "source": [
        "print(\"Prueba del Chatbot con Embeddings MiniLM\\n\")\n",
        "\n",
        "for pregunta in lista_preguntas:\n",
        "    score, idx, respuesta = evaluar_similitud_minilm(pregunta)\n",
        "    print(f\"Tú: {pregunta}\")\n",
        "    print(f\"Chatbot: {respuesta} (Similitud: {round(score, 2)})\\n\")\n"
      ],
      "metadata": {
        "id": "axBkhYMCbFbK",
        "colab": {
          "base_uri": "https://localhost:8080/"
        },
        "outputId": "1f527392-cb5c-4687-eeed-93e3bfb27dea"
      },
      "execution_count": 35,
      "outputs": [
        {
          "output_type": "stream",
          "name": "stdout",
          "text": [
            "Prueba del Chatbot con Embeddings MiniLM\n",
            "\n",
            "Pregunta original:        amamantar\n",
            "Similitud máxima:         0.3056\n",
            "Índice en dataset:        12\n",
            "Pregunta coincidente:     ¿Cómo calmar los cólicos?\n",
            "Respuesta sugerida:       Masajes suaves, mantenerlo en posición vertical y mover sus piernas pueden ayudar.\n",
            "Tú: amamantar\n",
            "Chatbot: Masajes suaves, mantenerlo en posición vertical y mover sus piernas pueden ayudar. (Similitud: 0.3100000023841858)\n",
            "\n",
            "Pregunta original:        ¿Cada cuánto se debe amamantar a un bebé?\n",
            "Similitud máxima:         0.9724\n",
            "Índice en dataset:        0\n",
            "Pregunta coincidente:     ¿Cada cuánto se debe amamantar a un recién nacido?\n",
            "Respuesta sugerida:       Se recomienda cada 2 o 3 horas, o a demanda.\n",
            "Tú: ¿Cada cuánto se debe amamantar a un bebé?\n",
            "Chatbot: Se recomienda cada 2 o 3 horas, o a demanda. (Similitud: 0.9700000286102295)\n",
            "\n",
            "Pregunta original:        ¿Mi hijo tiene hambre si llora mucho?\n",
            "Similitud máxima:         0.7209\n",
            "Índice en dataset:        3\n",
            "Pregunta coincidente:     ¿Qué hacer si mi bebé llora mucho por la noche?\n",
            "Respuesta sugerida:       Puede tener gases, hambre o incomodidad. El contacto físico y los masajes pueden ayudar.\n",
            "Tú: ¿Mi hijo tiene hambre si llora mucho?\n",
            "Chatbot: Puede tener gases, hambre o incomodidad. El contacto físico y los masajes pueden ayudar. (Similitud: 0.7200000286102295)\n",
            "\n",
            "Pregunta original:        ¿Qué pasa si mi bebé no toma el pecho?\n",
            "Similitud máxima:         0.8102\n",
            "Índice en dataset:        14\n",
            "Pregunta coincidente:     ¿Por qué mi bebé no quiere tomar la teta?\n",
            "Respuesta sugerida:       Puede estar incómodo, distraído o tener un problema físico. Consultar con una asesora de lactancia.\n",
            "Tú: ¿Qué pasa si mi bebé no toma el pecho?\n",
            "Chatbot: Puede estar incómodo, distraído o tener un problema físico. Consultar con una asesora de lactancia. (Similitud: 0.8100000023841858)\n",
            "\n",
            "Pregunta original:        ¿Es normal que pida mamar seguido?\n",
            "Similitud máxima:         0.6474\n",
            "Índice en dataset:        9\n",
            "Pregunta coincidente:     ¿Es normal que regurgite leche?\n",
            "Respuesta sugerida:       Sí, es común y normal si no hay signos de malestar o falta de crecimiento.\n",
            "Tú: ¿Es normal que pida mamar seguido?\n",
            "Chatbot: Sí, es común y normal si no hay signos de malestar o falta de crecimiento. (Similitud: 0.6499999761581421)\n",
            "\n",
            "Pregunta original:        ¿Con qué frecuencia debo darle de comer a un recién nacido?\n",
            "Similitud máxima:         0.8363\n",
            "Índice en dataset:        0\n",
            "Pregunta coincidente:     ¿Cada cuánto se debe amamantar a un recién nacido?\n",
            "Respuesta sugerida:       Se recomienda cada 2 o 3 horas, o a demanda.\n",
            "Tú: ¿Con qué frecuencia debo darle de comer a un recién nacido?\n",
            "Chatbot: Se recomienda cada 2 o 3 horas, o a demanda. (Similitud: 0.8399999737739563)\n",
            "\n"
          ]
        }
      ]
    },
    {
      "cell_type": "markdown",
      "source": [
        "## 5. Conclusiones"
      ],
      "metadata": {
        "id": "8EbFTRErl2St"
      }
    },
    {
      "cell_type": "markdown",
      "source": [
        "Probando ambos modelos, se nota claramente que el chatbot con embeddings es mucho más flexible y entiende mejor lo que se le pregunta, incluso cuando las frases están escritas de manera distinta o son más informales. Eso lo hace ideal para casos reales donde no todas las personas formulan sus dudas de la misma manera. Las respuestas que da son más precisas y contextuales, lo cual se nota especialmente cuando se usan frases completas.\n",
        "\n",
        "En cambio, el chatbot con TF-IDF depende mucho de que la pregunta coincida casi literal con alguna del dataset. Si bien puede funcionar en algunos casos, es más limitado cuando las mamás escriben con sus propias palabras. Por eso, para este proyecto enfocado en acompañar a mamás primerizas, el uso de embeddings mejora claramente la experiencia y la utilidad del chatbot."
      ],
      "metadata": {
        "id": "gIjYv0-6l6qC"
      }
    },
    {
      "cell_type": "markdown",
      "source": [
        "# 6. Chatbot RAG"
      ],
      "metadata": {
        "id": "VlTQLN_-mx83"
      }
    },
    {
      "cell_type": "code",
      "source": [
        "!pip install transformers"
      ],
      "metadata": {
        "colab": {
          "base_uri": "https://localhost:8080/"
        },
        "id": "xeQEWHqvJAYV",
        "outputId": "b517f00f-3684-4ae5-d520-86b4d7039787"
      },
      "execution_count": 53,
      "outputs": [
        {
          "output_type": "stream",
          "name": "stdout",
          "text": [
            "Requirement already satisfied: transformers in /usr/local/lib/python3.11/dist-packages (4.52.4)\n",
            "Requirement already satisfied: filelock in /usr/local/lib/python3.11/dist-packages (from transformers) (3.18.0)\n",
            "Requirement already satisfied: huggingface-hub<1.0,>=0.30.0 in /usr/local/lib/python3.11/dist-packages (from transformers) (0.33.0)\n",
            "Requirement already satisfied: numpy>=1.17 in /usr/local/lib/python3.11/dist-packages (from transformers) (2.0.2)\n",
            "Requirement already satisfied: packaging>=20.0 in /usr/local/lib/python3.11/dist-packages (from transformers) (24.2)\n",
            "Requirement already satisfied: pyyaml>=5.1 in /usr/local/lib/python3.11/dist-packages (from transformers) (6.0.2)\n",
            "Requirement already satisfied: regex!=2019.12.17 in /usr/local/lib/python3.11/dist-packages (from transformers) (2024.11.6)\n",
            "Requirement already satisfied: requests in /usr/local/lib/python3.11/dist-packages (from transformers) (2.32.3)\n",
            "Requirement already satisfied: tokenizers<0.22,>=0.21 in /usr/local/lib/python3.11/dist-packages (from transformers) (0.21.1)\n",
            "Requirement already satisfied: safetensors>=0.4.3 in /usr/local/lib/python3.11/dist-packages (from transformers) (0.5.3)\n",
            "Requirement already satisfied: tqdm>=4.27 in /usr/local/lib/python3.11/dist-packages (from transformers) (4.67.1)\n",
            "Requirement already satisfied: fsspec>=2023.5.0 in /usr/local/lib/python3.11/dist-packages (from huggingface-hub<1.0,>=0.30.0->transformers) (2025.3.2)\n",
            "Requirement already satisfied: typing-extensions>=3.7.4.3 in /usr/local/lib/python3.11/dist-packages (from huggingface-hub<1.0,>=0.30.0->transformers) (4.14.0)\n",
            "Requirement already satisfied: hf-xet<2.0.0,>=1.1.2 in /usr/local/lib/python3.11/dist-packages (from huggingface-hub<1.0,>=0.30.0->transformers) (1.1.3)\n",
            "Requirement already satisfied: charset-normalizer<4,>=2 in /usr/local/lib/python3.11/dist-packages (from requests->transformers) (3.4.2)\n",
            "Requirement already satisfied: idna<4,>=2.5 in /usr/local/lib/python3.11/dist-packages (from requests->transformers) (3.10)\n",
            "Requirement already satisfied: urllib3<3,>=1.21.1 in /usr/local/lib/python3.11/dist-packages (from requests->transformers) (2.4.0)\n",
            "Requirement already satisfied: certifi>=2017.4.17 in /usr/local/lib/python3.11/dist-packages (from requests->transformers) (2025.4.26)\n"
          ]
        }
      ]
    },
    {
      "cell_type": "code",
      "source": [
        "from huggingface_hub import login\n",
        "\n",
        "login()"
      ],
      "metadata": {
        "colab": {
          "base_uri": "https://localhost:8080/",
          "height": 17,
          "referenced_widgets": [
            "78afe8e3f9fa4d2192d6b49df22996c1",
            "2d97a5dc2f0f47398a5a418c14e5d14c",
            "531b412f21924daf8c3fb4f7cfa4d078",
            "8c919b4882164ec1bb06fe69bf766f11",
            "a660edd6d4bf4cf8bd4f75848f6334a7",
            "7d103b25a14d4078bbfb86a2d3a6d16d",
            "56b1f7f5ef7540ff93fcb9bf122cb174",
            "a7dc3cef9d5e40fa928220aeb47c3fd7",
            "1d85a4729f3b4dd399208c9db5778692",
            "82af9d3c60f146f6bf771c4824004960",
            "166f20e6a29d4bccbcf2073c31bc8fa7",
            "8f70ce88e12649dab489c00554cda264",
            "3a3ee7f361054010aca437ea63a3cde2",
            "9f894358425a40a0a7f962e541999367",
            "852ac798a80b417ea040beefc7acbab5",
            "ca1a25b0f8604d73bfa324d190c85320",
            "cee013e874f3450283266fd10222654e",
            "c35f1bb3e582415d9dd2283687cd38c2",
            "fe15f706eb464af4adc576c4f1d83204",
            "df4959c9c588496691ab9213239e5342"
          ]
        },
        "id": "M9LuxymFJDYj",
        "outputId": "7151d879-00c3-4bbe-f039-41ccf4fcb8d3"
      },
      "execution_count": 54,
      "outputs": [
        {
          "output_type": "display_data",
          "data": {
            "text/plain": [
              "VBox(children=(HTML(value='<center> <img\\nsrc=https://huggingface.co/front/assets/huggingface_logo-noborder.sv…"
            ],
            "application/vnd.jupyter.widget-view+json": {
              "version_major": 2,
              "version_minor": 0,
              "model_id": "78afe8e3f9fa4d2192d6b49df22996c1"
            }
          },
          "metadata": {}
        }
      ]
    },
    {
      "cell_type": "code",
      "source": [
        "from transformers import pipeline\n",
        "\n",
        "generador = pipeline(\n",
        "    \"text2text-generation\",\n",
        "    model=\"google/flan-t5-base\",\n",
        "    tokenizer=\"google/flan-t5-base\"\n",
        ")"
      ],
      "metadata": {
        "colab": {
          "base_uri": "https://localhost:8080/"
        },
        "id": "FOpn8MogJRS4",
        "outputId": "1e9848e0-8241-49cd-f23e-fc1bdd24c130"
      },
      "execution_count": 55,
      "outputs": [
        {
          "output_type": "stream",
          "name": "stderr",
          "text": [
            "Device set to use cuda:0\n"
          ]
        }
      ]
    },
    {
      "cell_type": "code",
      "source": [
        "def chatbot_rag_minilm(pregunta_usuario):\n",
        "    entrada = pregunta_usuario.lower().strip()\n",
        "\n",
        "    if entrada in ['hola', 'buenas', 'buen día', 'buenas tardes', 'buenas noches', 'qué tal', 'saludos']:\n",
        "        return \"¡Hola! ¿En qué puedo ayudarte?\"\n",
        "\n",
        "    pregunta_vec = modelo_embedding.encode(entrada, convert_to_tensor=True)\n",
        "    similitudes = cos_sim(pregunta_vec, embeddings_corpus)[0]\n",
        "    idx = similitudes.argmax().item()\n",
        "    contexto = df.iloc[idx]['Respuesta']\n",
        "\n",
        "    prompt = f\"Respondé en español de forma clara y profesional.\\nPregunta: {pregunta_usuario}\\nContexto legal: {contexto}\\nRespuesta:\"\n",
        "    salida = generador(prompt, max_new_tokens=100, do_sample=False)[0]['generated_text']\n",
        "\n",
        "    return salida.strip()\n"
      ],
      "metadata": {
        "id": "VAWjRBmgJXvY"
      },
      "execution_count": 56,
      "outputs": []
    },
    {
      "cell_type": "markdown",
      "source": [
        "## Uso del chatbot RAG con Minilm"
      ],
      "metadata": {
        "id": "dO43Dn12qeJc"
      }
    },
    {
      "cell_type": "code",
      "source": [
        "preguntas_test = [\n",
        "    \"¿Cómo sé si mi bebé está comiendo lo suficiente?\",\n",
        "    \"¿Por qué mi bebé tiene hipo?\",\n",
        "    \"¿Qué hacer si mi bebé tiene fiebre?\",\n",
        "    \"¿Cómo calmar los cólicos?\",\n",
        "]"
      ],
      "metadata": {
        "id": "F7iak3bFJcGC"
      },
      "execution_count": 57,
      "outputs": []
    },
    {
      "cell_type": "markdown",
      "source": [
        "## Interacción en modo conversación\n",
        "\n"
      ],
      "metadata": {
        "id": "KSeUpI96BYyK"
      }
    },
    {
      "cell_type": "code",
      "source": [
        "while True:\n",
        "    entrada = input(\"Tú: \")\n",
        "    if entrada.lower() in ['salir', 'exit', 'adiós', 'adios', 'chau', 'chao', 'nos vemos', 'gracias']:\n",
        "        print(\"\\nChatbot: ¡Hasta luego!\")\n",
        "        break\n",
        "\n",
        "    respuesta = chatbot_rag_minilm(entrada)\n",
        "    print(f\"\\nChatbot: {respuesta}\\n\")"
      ],
      "metadata": {
        "colab": {
          "base_uri": "https://localhost:8080/"
        },
        "id": "mIyXpzuqJzRG",
        "outputId": "b7d3ce8a-92ad-455f-fcd2-5c9e16ed95bf"
      },
      "execution_count": 59,
      "outputs": [
        {
          "output_type": "stream",
          "name": "stdout",
          "text": [
            "Tú: Hola\n",
            "\n",
            "Chatbot: ¡Hola! ¿En qué puedo ayudarte?\n",
            "\n",
            "Tú: ¿Cómo sé si mi bebé está comiendo lo suficiente?\n",
            "\n",
            "Chatbot: Se me alimenta a menos 6 paales al da y gana peso, está bien alimentado.\n",
            "\n",
            "Tú: ¿Por qué mi bebé tiene hipo?\n",
            "\n",
            "Chatbot: el hipo es comn en los recién nacidos y suele desaparecer solo.\n",
            "\n",
            "Tú: ¿Cómo calmar los cólicos?\n",
            "\n",
            "Chatbot: Suaves, mantenerlo en posición vertical y mover sus piernas\n",
            "\n",
            "Tú: ¿Qué hacer si mi bebé tiene fiebre?\n",
            "\n",
            "Chatbot: Consultar al pediatra si la temperatura supera los 38°C.\n",
            "\n",
            "Tú: gracias\n",
            "\n",
            "Chatbot: ¡Hasta luego!\n"
          ]
        }
      ]
    },
    {
      "cell_type": "markdown",
      "source": [
        "# Conclusiones\n",
        "\n",
        "- El chatbot RAG comprendió correctamente el significado detrás de preguntas frecuentes de mamás primerizas, gracias al uso de embeddings de MiniLM.\n",
        "\n",
        "- Logró recuperar respuestas útiles desde un corpus temático, abordando temas como lactancia, cólicos, fiebre o señales de alimentación insuficiente.\n",
        "-\n",
        "Las respuestas generadas con el modelo LLM Flan-T5 se expresaron en español de forma clara, empática y útil, adaptándose a las necesidades de este grupo.\n",
        "\n",
        "- La solución es escalable: se puede ampliar fácilmente el corpus con nuevas dudas reales de mamás, incorporar categorías (alimentación, sueño, salud, etc.), o incluso generar informes de preguntas más frecuentes para profesionales de la salud."
      ],
      "metadata": {
        "id": "DrDBCnzbTJuE"
      }
    }
  ]
}